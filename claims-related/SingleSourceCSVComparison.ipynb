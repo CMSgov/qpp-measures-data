{
 "cells": [
  {
   "cell_type": "code",
   "execution_count": 1,
   "id": "ac6205fa",
   "metadata": {},
   "outputs": [],
   "source": [
    "import pandas as pd \n",
    "import numpy as np"
   ]
  },
  {
   "cell_type": "code",
   "execution_count": 2,
   "id": "a9aaab62",
   "metadata": {},
   "outputs": [],
   "source": [
    "basefile = pd.read_csv(\"data/2020_Claims_SingleSource_v1.4.csv\",dtype=str)\n",
    "newfile = pd.read_csv(\"data/2021_Claims_SingleSource_v1.3.csv\",dtype=str)\n",
    "\n",
    "basefile.columns = basefile.columns.str.replace(' ', '_')\n",
    "newfile.columns = newfile.columns.str.replace(' ', '_')"
   ]
  },
  {
   "cell_type": "markdown",
   "id": "b0714368",
   "metadata": {},
   "source": [
    "### Count comparison"
   ]
  },
  {
   "cell_type": "code",
   "execution_count": 3,
   "id": "0f17a287",
   "metadata": {},
   "outputs": [
    {
     "data": {
      "text/plain": [
       "Measure_ID           19434\n",
       "DATA_ELEMENT_NAME    19434\n",
       "CODING_SYSTEM        19434\n",
       "CODE                 19434\n",
       "MODIFIER               883\n",
       "PLACE_OF_SERVICE       724\n",
       "AGE                  19434\n",
       "GENDER               19434\n",
       "dtype: int64"
      ]
     },
     "execution_count": 3,
     "metadata": {},
     "output_type": "execute_result"
    }
   ],
   "source": [
    "basefile.count()"
   ]
  },
  {
   "cell_type": "code",
   "execution_count": 4,
   "id": "74ffdb7e",
   "metadata": {},
   "outputs": [
    {
     "data": {
      "text/plain": [
       "Measure_ID           21380\n",
       "DATA_ELEMENT_NAME    21380\n",
       "CODING_SYSTEM        21380\n",
       "CODE                 21380\n",
       "MODIFIER               370\n",
       "PLACE_OF_SERVICE       355\n",
       "AGE                  21380\n",
       "GENDER               21380\n",
       "dtype: int64"
      ]
     },
     "execution_count": 4,
     "metadata": {},
     "output_type": "execute_result"
    }
   ],
   "source": [
    "newfile.count()"
   ]
  },
  {
   "cell_type": "markdown",
   "id": "9db93fe9",
   "metadata": {},
   "source": [
    "### Joining the two files "
   ]
  },
  {
   "cell_type": "code",
   "execution_count": 33,
   "id": "245ba259",
   "metadata": {},
   "outputs": [],
   "source": [
    "key=newfile.columns.values.tolist()"
   ]
  },
  {
   "cell_type": "code",
   "execution_count": 36,
   "id": "6126c39e",
   "metadata": {},
   "outputs": [
    {
     "data": {
      "text/plain": [
       "['Measure_ID',\n",
       " 'DATA_ELEMENT_NAME',\n",
       " 'CODING_SYSTEM',\n",
       " 'CODE',\n",
       " 'MODIFIER',\n",
       " 'PLACE_OF_SERVICE',\n",
       " 'AGE']"
      ]
     },
     "execution_count": 36,
     "metadata": {},
     "output_type": "execute_result"
    }
   ],
   "source": [
    "key"
   ]
  },
  {
   "cell_type": "code",
   "execution_count": 37,
   "id": "76ef79fc",
   "metadata": {},
   "outputs": [],
   "source": [
    "joint=newfile.merge(basefile,on=key,how=\"outer\",suffixes=[\"_new\",\"_base\"])"
   ]
  },
  {
   "cell_type": "code",
   "execution_count": 38,
   "id": "e883e026",
   "metadata": {},
   "outputs": [
    {
     "data": {
      "text/html": [
       "<div>\n",
       "<style scoped>\n",
       "    .dataframe tbody tr th:only-of-type {\n",
       "        vertical-align: middle;\n",
       "    }\n",
       "\n",
       "    .dataframe tbody tr th {\n",
       "        vertical-align: top;\n",
       "    }\n",
       "\n",
       "    .dataframe thead th {\n",
       "        text-align: right;\n",
       "    }\n",
       "</style>\n",
       "<table border=\"1\" class=\"dataframe\">\n",
       "  <thead>\n",
       "    <tr style=\"text-align: right;\">\n",
       "      <th></th>\n",
       "      <th>Measure_ID</th>\n",
       "      <th>DATA_ELEMENT_NAME</th>\n",
       "      <th>CODING_SYSTEM</th>\n",
       "      <th>CODE</th>\n",
       "      <th>MODIFIER</th>\n",
       "      <th>PLACE_OF_SERVICE</th>\n",
       "      <th>AGE</th>\n",
       "      <th>GENDER_new</th>\n",
       "      <th>GENDER_base</th>\n",
       "    </tr>\n",
       "  </thead>\n",
       "  <tbody>\n",
       "    <tr>\n",
       "      <th>0</th>\n",
       "      <td>1</td>\n",
       "      <td>ENCOUNTER_CODE</td>\n",
       "      <td>C4</td>\n",
       "      <td>99202</td>\n",
       "      <td>NaN</td>\n",
       "      <td>NaN</td>\n",
       "      <td>18 - 75</td>\n",
       "      <td>M, F</td>\n",
       "      <td>M, F</td>\n",
       "    </tr>\n",
       "    <tr>\n",
       "      <th>1</th>\n",
       "      <td>1</td>\n",
       "      <td>ENCOUNTER_CODE</td>\n",
       "      <td>C4</td>\n",
       "      <td>99203</td>\n",
       "      <td>NaN</td>\n",
       "      <td>NaN</td>\n",
       "      <td>18 - 75</td>\n",
       "      <td>M, F</td>\n",
       "      <td>M, F</td>\n",
       "    </tr>\n",
       "    <tr>\n",
       "      <th>2</th>\n",
       "      <td>1</td>\n",
       "      <td>ENCOUNTER_CODE</td>\n",
       "      <td>C4</td>\n",
       "      <td>99204</td>\n",
       "      <td>NaN</td>\n",
       "      <td>NaN</td>\n",
       "      <td>18 - 75</td>\n",
       "      <td>M, F</td>\n",
       "      <td>M, F</td>\n",
       "    </tr>\n",
       "    <tr>\n",
       "      <th>3</th>\n",
       "      <td>1</td>\n",
       "      <td>ENCOUNTER_CODE</td>\n",
       "      <td>C4</td>\n",
       "      <td>99205</td>\n",
       "      <td>NaN</td>\n",
       "      <td>NaN</td>\n",
       "      <td>18 - 75</td>\n",
       "      <td>M, F</td>\n",
       "      <td>M, F</td>\n",
       "    </tr>\n",
       "    <tr>\n",
       "      <th>4</th>\n",
       "      <td>1</td>\n",
       "      <td>ENCOUNTER_CODE</td>\n",
       "      <td>C4</td>\n",
       "      <td>99212</td>\n",
       "      <td>NaN</td>\n",
       "      <td>NaN</td>\n",
       "      <td>18 - 75</td>\n",
       "      <td>M, F</td>\n",
       "      <td>M, F</td>\n",
       "    </tr>\n",
       "    <tr>\n",
       "      <th>...</th>\n",
       "      <td>...</td>\n",
       "      <td>...</td>\n",
       "      <td>...</td>\n",
       "      <td>...</td>\n",
       "      <td>...</td>\n",
       "      <td>...</td>\n",
       "      <td>...</td>\n",
       "      <td>...</td>\n",
       "      <td>...</td>\n",
       "    </tr>\n",
       "    <tr>\n",
       "      <th>25968</th>\n",
       "      <td>437</td>\n",
       "      <td>G_CODE_PD</td>\n",
       "      <td>HCPCS</td>\n",
       "      <td>G9641</td>\n",
       "      <td>NaN</td>\n",
       "      <td>NaN</td>\n",
       "      <td>≥0</td>\n",
       "      <td>NaN</td>\n",
       "      <td>M, F</td>\n",
       "    </tr>\n",
       "    <tr>\n",
       "      <th>25969</th>\n",
       "      <td>437</td>\n",
       "      <td>G_CODE_PN</td>\n",
       "      <td>HCPCS</td>\n",
       "      <td>G9641</td>\n",
       "      <td>NaN</td>\n",
       "      <td>NaN</td>\n",
       "      <td>≥0</td>\n",
       "      <td>NaN</td>\n",
       "      <td>M, F</td>\n",
       "    </tr>\n",
       "    <tr>\n",
       "      <th>25970</th>\n",
       "      <td>437</td>\n",
       "      <td>G_CODE_PD_Exl</td>\n",
       "      <td>HCPCS</td>\n",
       "      <td>G9640</td>\n",
       "      <td>NaN</td>\n",
       "      <td>NaN</td>\n",
       "      <td>≥0</td>\n",
       "      <td>NaN</td>\n",
       "      <td>M, F</td>\n",
       "    </tr>\n",
       "    <tr>\n",
       "      <th>25971</th>\n",
       "      <td>437</td>\n",
       "      <td>G_CODE_PD</td>\n",
       "      <td>HCPCS</td>\n",
       "      <td>G9639</td>\n",
       "      <td>NaN</td>\n",
       "      <td>NaN</td>\n",
       "      <td>≥0</td>\n",
       "      <td>NaN</td>\n",
       "      <td>M, F</td>\n",
       "    </tr>\n",
       "    <tr>\n",
       "      <th>25972</th>\n",
       "      <td>437</td>\n",
       "      <td>G_CODE_PN_X</td>\n",
       "      <td>HCPCS</td>\n",
       "      <td>G9639</td>\n",
       "      <td>NaN</td>\n",
       "      <td>NaN</td>\n",
       "      <td>≥0</td>\n",
       "      <td>NaN</td>\n",
       "      <td>M, F</td>\n",
       "    </tr>\n",
       "  </tbody>\n",
       "</table>\n",
       "<p>25973 rows × 9 columns</p>\n",
       "</div>"
      ],
      "text/plain": [
       "      Measure_ID DATA_ELEMENT_NAME CODING_SYSTEM   CODE MODIFIER  \\\n",
       "0              1    ENCOUNTER_CODE            C4  99202      NaN   \n",
       "1              1    ENCOUNTER_CODE            C4  99203      NaN   \n",
       "2              1    ENCOUNTER_CODE            C4  99204      NaN   \n",
       "3              1    ENCOUNTER_CODE            C4  99205      NaN   \n",
       "4              1    ENCOUNTER_CODE            C4  99212      NaN   \n",
       "...          ...               ...           ...    ...      ...   \n",
       "25968        437         G_CODE_PD         HCPCS  G9641      NaN   \n",
       "25969        437         G_CODE_PN         HCPCS  G9641      NaN   \n",
       "25970        437     G_CODE_PD_Exl         HCPCS  G9640      NaN   \n",
       "25971        437         G_CODE_PD         HCPCS  G9639      NaN   \n",
       "25972        437       G_CODE_PN_X         HCPCS  G9639      NaN   \n",
       "\n",
       "      PLACE_OF_SERVICE      AGE GENDER_new GENDER_base  \n",
       "0                  NaN  18 - 75       M, F        M, F  \n",
       "1                  NaN  18 - 75       M, F        M, F  \n",
       "2                  NaN  18 - 75       M, F        M, F  \n",
       "3                  NaN  18 - 75       M, F        M, F  \n",
       "4                  NaN  18 - 75       M, F        M, F  \n",
       "...                ...      ...        ...         ...  \n",
       "25968              NaN       ≥0        NaN        M, F  \n",
       "25969              NaN       ≥0        NaN        M, F  \n",
       "25970              NaN       ≥0        NaN        M, F  \n",
       "25971              NaN       ≥0        NaN        M, F  \n",
       "25972              NaN       ≥0        NaN        M, F  \n",
       "\n",
       "[25973 rows x 9 columns]"
      ]
     },
     "execution_count": 38,
     "metadata": {},
     "output_type": "execute_result"
    }
   ],
   "source": [
    "joint"
   ]
  },
  {
   "cell_type": "code",
   "execution_count": 39,
   "id": "367119d9",
   "metadata": {},
   "outputs": [
    {
     "data": {
      "text/plain": [
       "4560"
      ]
     },
     "execution_count": 39,
     "metadata": {},
     "output_type": "execute_result"
    }
   ],
   "source": [
    "onlybase=joint[joint.GENDER_new.isna()]\n",
    "len(onlybase)"
   ]
  },
  {
   "cell_type": "code",
   "execution_count": 40,
   "id": "b08e401d",
   "metadata": {},
   "outputs": [
    {
     "data": {
      "text/plain": [
       "6513"
      ]
     },
     "execution_count": 40,
     "metadata": {},
     "output_type": "execute_result"
    }
   ],
   "source": [
    "onlynew=joint[joint.GENDER_base.isna()]\n",
    "len(onlynew)"
   ]
  },
  {
   "cell_type": "markdown",
   "id": "a4a28283",
   "metadata": {},
   "source": [
    "# New against Base comparison"
   ]
  },
  {
   "cell_type": "markdown",
   "id": "4aff4be4",
   "metadata": {},
   "source": [
    "## Measure ID analysis"
   ]
  },
  {
   "cell_type": "code",
   "execution_count": 43,
   "id": "03df40ff",
   "metadata": {},
   "outputs": [],
   "source": [
    "newids=onlynew.Measure_ID.value_counts()\n",
    "baseids=basefile.Measure_ID.value_counts()"
   ]
  },
  {
   "cell_type": "markdown",
   "id": "bafe4deb",
   "metadata": {},
   "source": [
    "#### MeasureIds introduced as part of the new version"
   ]
  },
  {
   "cell_type": "code",
   "execution_count": 63,
   "id": "fad9514b",
   "metadata": {},
   "outputs": [
    {
     "data": {
      "text/html": [
       "<div>\n",
       "<style scoped>\n",
       "    .dataframe tbody tr th:only-of-type {\n",
       "        vertical-align: middle;\n",
       "    }\n",
       "\n",
       "    .dataframe tbody tr th {\n",
       "        vertical-align: top;\n",
       "    }\n",
       "\n",
       "    .dataframe thead th {\n",
       "        text-align: right;\n",
       "    }\n",
       "</style>\n",
       "<table border=\"1\" class=\"dataframe\">\n",
       "  <thead>\n",
       "    <tr style=\"text-align: right;\">\n",
       "      <th></th>\n",
       "      <th>Measure_ID_new</th>\n",
       "      <th>Measure_ID_base</th>\n",
       "    </tr>\n",
       "  </thead>\n",
       "  <tbody>\n",
       "    <tr>\n",
       "      <th>236</th>\n",
       "      <td>781</td>\n",
       "      <td>55</td>\n",
       "    </tr>\n",
       "    <tr>\n",
       "      <th>418</th>\n",
       "      <td>590</td>\n",
       "      <td>3543</td>\n",
       "    </tr>\n",
       "    <tr>\n",
       "      <th>117</th>\n",
       "      <td>579</td>\n",
       "      <td>327</td>\n",
       "    </tr>\n",
       "    <tr>\n",
       "      <th>1</th>\n",
       "      <td>569</td>\n",
       "      <td>320</td>\n",
       "    </tr>\n",
       "    <tr>\n",
       "      <th>24</th>\n",
       "      <td>564</td>\n",
       "      <td>3479</td>\n",
       "    </tr>\n",
       "  </tbody>\n",
       "</table>\n",
       "</div>"
      ],
      "text/plain": [
       "     Measure_ID_new  Measure_ID_base\n",
       "236             781               55\n",
       "418             590             3543\n",
       "117             579              327\n",
       "1               569              320\n",
       "24              564             3479"
      ]
     },
     "execution_count": 63,
     "metadata": {},
     "output_type": "execute_result"
    }
   ],
   "source": [
    "newids.to_frame().join(baseids.to_frame(),how=\"left\",lsuffix=\"_new\",rsuffix=\"_base\").head()"
   ]
  },
  {
   "cell_type": "markdown",
   "id": "083ebba2",
   "metadata": {},
   "source": [
    "## CODE Analysis"
   ]
  },
  {
   "cell_type": "markdown",
   "id": "f439c30d",
   "metadata": {},
   "source": [
    "#### Codes introduced / moved as part of the new version"
   ]
  },
  {
   "cell_type": "code",
   "execution_count": 56,
   "id": "d3c5daad",
   "metadata": {},
   "outputs": [],
   "source": [
    "newden=onlynew.CODE.value_counts().convert_dtypes().to_frame()\n",
    "baseden=basefile.CODE.value_counts().convert_dtypes().to_frame()"
   ]
  },
  {
   "cell_type": "code",
   "execution_count": 59,
   "id": "dd1ff0b6",
   "metadata": {},
   "outputs": [],
   "source": [
    "newcodes=newden.join(baseden,how=\"left\",lsuffix=\"_new\",rsuffix=\"_base\")"
   ]
  },
  {
   "cell_type": "markdown",
   "id": "f2fffd36",
   "metadata": {},
   "source": [
    "#### Codes which are completely new"
   ]
  },
  {
   "cell_type": "code",
   "execution_count": 60,
   "id": "8b69679c",
   "metadata": {},
   "outputs": [
    {
     "data": {
      "text/html": [
       "<div>\n",
       "<style scoped>\n",
       "    .dataframe tbody tr th:only-of-type {\n",
       "        vertical-align: middle;\n",
       "    }\n",
       "\n",
       "    .dataframe tbody tr th {\n",
       "        vertical-align: top;\n",
       "    }\n",
       "\n",
       "    .dataframe thead th {\n",
       "        text-align: right;\n",
       "    }\n",
       "</style>\n",
       "<table border=\"1\" class=\"dataframe\">\n",
       "  <thead>\n",
       "    <tr style=\"text-align: right;\">\n",
       "      <th></th>\n",
       "      <th>CODE_new</th>\n",
       "      <th>CODE_base</th>\n",
       "    </tr>\n",
       "  </thead>\n",
       "  <tbody>\n",
       "    <tr>\n",
       "      <th>L89.119</th>\n",
       "      <td>11</td>\n",
       "      <td>&lt;NA&gt;</td>\n",
       "    </tr>\n",
       "    <tr>\n",
       "      <th>L89.309</th>\n",
       "      <td>11</td>\n",
       "      <td>&lt;NA&gt;</td>\n",
       "    </tr>\n",
       "    <tr>\n",
       "      <th>L89.209</th>\n",
       "      <td>11</td>\n",
       "      <td>&lt;NA&gt;</td>\n",
       "    </tr>\n",
       "    <tr>\n",
       "      <th>L89.159</th>\n",
       "      <td>11</td>\n",
       "      <td>&lt;NA&gt;</td>\n",
       "    </tr>\n",
       "    <tr>\n",
       "      <th>L89.149</th>\n",
       "      <td>11</td>\n",
       "      <td>&lt;NA&gt;</td>\n",
       "    </tr>\n",
       "    <tr>\n",
       "      <th>...</th>\n",
       "      <td>...</td>\n",
       "      <td>...</td>\n",
       "    </tr>\n",
       "    <tr>\n",
       "      <th>90846</th>\n",
       "      <td>1</td>\n",
       "      <td>&lt;NA&gt;</td>\n",
       "    </tr>\n",
       "    <tr>\n",
       "      <th>90847</th>\n",
       "      <td>1</td>\n",
       "      <td>&lt;NA&gt;</td>\n",
       "    </tr>\n",
       "    <tr>\n",
       "      <th>G2181</th>\n",
       "      <td>1</td>\n",
       "      <td>&lt;NA&gt;</td>\n",
       "    </tr>\n",
       "    <tr>\n",
       "      <th>92507</th>\n",
       "      <td>1</td>\n",
       "      <td>&lt;NA&gt;</td>\n",
       "    </tr>\n",
       "    <tr>\n",
       "      <th>92508</th>\n",
       "      <td>1</td>\n",
       "      <td>&lt;NA&gt;</td>\n",
       "    </tr>\n",
       "  </tbody>\n",
       "</table>\n",
       "<p>1141 rows × 2 columns</p>\n",
       "</div>"
      ],
      "text/plain": [
       "         CODE_new  CODE_base\n",
       "L89.119        11       <NA>\n",
       "L89.309        11       <NA>\n",
       "L89.209        11       <NA>\n",
       "L89.159        11       <NA>\n",
       "L89.149        11       <NA>\n",
       "...           ...        ...\n",
       "90846           1       <NA>\n",
       "90847           1       <NA>\n",
       "G2181           1       <NA>\n",
       "92507           1       <NA>\n",
       "92508           1       <NA>\n",
       "\n",
       "[1141 rows x 2 columns]"
      ]
     },
     "execution_count": 60,
     "metadata": {},
     "output_type": "execute_result"
    }
   ],
   "source": [
    "newcodes[newcodes[\"CODE_base\"].isna()]"
   ]
  },
  {
   "cell_type": "markdown",
   "id": "c594a51e",
   "metadata": {},
   "source": [
    "##### Moved codes"
   ]
  },
  {
   "cell_type": "code",
   "execution_count": 62,
   "id": "93c45be0",
   "metadata": {},
   "outputs": [
    {
     "data": {
      "text/html": [
       "<div>\n",
       "<style scoped>\n",
       "    .dataframe tbody tr th:only-of-type {\n",
       "        vertical-align: middle;\n",
       "    }\n",
       "\n",
       "    .dataframe tbody tr th {\n",
       "        vertical-align: top;\n",
       "    }\n",
       "\n",
       "    .dataframe thead th {\n",
       "        text-align: right;\n",
       "    }\n",
       "</style>\n",
       "<table border=\"1\" class=\"dataframe\">\n",
       "  <thead>\n",
       "    <tr style=\"text-align: right;\">\n",
       "      <th></th>\n",
       "      <th>CODE_new</th>\n",
       "      <th>CODE_base</th>\n",
       "    </tr>\n",
       "  </thead>\n",
       "  <tbody>\n",
       "    <tr>\n",
       "      <th>99348</th>\n",
       "      <td>9</td>\n",
       "      <td>20</td>\n",
       "    </tr>\n",
       "    <tr>\n",
       "      <th>99342</th>\n",
       "      <td>9</td>\n",
       "      <td>20</td>\n",
       "    </tr>\n",
       "    <tr>\n",
       "      <th>99350</th>\n",
       "      <td>9</td>\n",
       "      <td>20</td>\n",
       "    </tr>\n",
       "    <tr>\n",
       "      <th>99349</th>\n",
       "      <td>9</td>\n",
       "      <td>20</td>\n",
       "    </tr>\n",
       "    <tr>\n",
       "      <th>99344</th>\n",
       "      <td>9</td>\n",
       "      <td>20</td>\n",
       "    </tr>\n",
       "    <tr>\n",
       "      <th>...</th>\n",
       "      <td>...</td>\n",
       "      <td>...</td>\n",
       "    </tr>\n",
       "    <tr>\n",
       "      <th>90965</th>\n",
       "      <td>1</td>\n",
       "      <td>1</td>\n",
       "    </tr>\n",
       "    <tr>\n",
       "      <th>90966</th>\n",
       "      <td>1</td>\n",
       "      <td>1</td>\n",
       "    </tr>\n",
       "    <tr>\n",
       "      <th>90967</th>\n",
       "      <td>1</td>\n",
       "      <td>1</td>\n",
       "    </tr>\n",
       "    <tr>\n",
       "      <th>90968</th>\n",
       "      <td>1</td>\n",
       "      <td>1</td>\n",
       "    </tr>\n",
       "    <tr>\n",
       "      <th>27756</th>\n",
       "      <td>1</td>\n",
       "      <td>1</td>\n",
       "    </tr>\n",
       "  </tbody>\n",
       "</table>\n",
       "<p>827 rows × 2 columns</p>\n",
       "</div>"
      ],
      "text/plain": [
       "       CODE_new  CODE_base\n",
       "99348         9         20\n",
       "99342         9         20\n",
       "99350         9         20\n",
       "99349         9         20\n",
       "99344         9         20\n",
       "...         ...        ...\n",
       "90965         1          1\n",
       "90966         1          1\n",
       "90967         1          1\n",
       "90968         1          1\n",
       "27756         1          1\n",
       "\n",
       "[827 rows x 2 columns]"
      ]
     },
     "execution_count": 62,
     "metadata": {},
     "output_type": "execute_result"
    }
   ],
   "source": [
    "newcodes[~newcodes[\"CODE_base\"].isna()]"
   ]
  },
  {
   "cell_type": "code",
   "execution_count": null,
   "id": "d1731640",
   "metadata": {},
   "outputs": [],
   "source": []
  }
 ],
 "metadata": {
  "kernelspec": {
   "display_name": "Python 3 (ipykernel)",
   "language": "python",
   "name": "python3"
  },
  "language_info": {
   "codemirror_mode": {
    "name": "ipython",
    "version": 3
   },
   "file_extension": ".py",
   "mimetype": "text/x-python",
   "name": "python",
   "nbconvert_exporter": "python",
   "pygments_lexer": "ipython3",
   "version": "3.8.13"
  }
 },
 "nbformat": 4,
 "nbformat_minor": 5
}
