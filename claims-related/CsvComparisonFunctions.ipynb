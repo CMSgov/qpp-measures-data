{
 "cells": [
  {
   "cell_type": "code",
   "execution_count": 3,
   "id": "ac6205fa",
   "metadata": {
    "pycharm": {
     "name": "#%%\n"
    }
   },
   "outputs": [],
   "source": [
    "import pandas as pd \n",
    "import numpy as np"
   ]
  },
  {
   "cell_type": "code",
   "execution_count": 4,
   "id": "a9aaab62",
   "metadata": {
    "pycharm": {
     "name": "#%%\n"
    }
   },
   "outputs": [],
   "source": [
    "basefile = pd.read_csv(\"data/2020_Claims_SingleSource_v1.4.csv\",dtype=str)\n",
    "newfile = pd.read_csv(\"data/2021_Claims_SingleSource_v1.3.csv\",dtype=str)\n",
    "\n",
    "basefile.columns = basefile.columns.str.replace(' ', '_')\n",
    "newfile.columns = newfile.columns.str.replace(' ', '_')\n",
    "# Version to capture \n",
    "basefile[\"VERSION\"] = \"BASE\"\n",
    "newfile[\"VERSION\"] = \"NEW\"\n",
    "# Const to capture the whole file\n",
    "basefile[\"CONST\"]=\"CONST\"\n",
    "newfile[\"CONST\"]=\"CONST\""
   ]
  },
  {
   "cell_type": "markdown",
   "id": "b0714368",
   "metadata": {
    "pycharm": {
     "name": "#%% md\n"
    }
   },
   "source": [
    "### Count comparison"
   ]
  },
  {
   "cell_type": "code",
   "execution_count": 5,
   "id": "0f17a287",
   "metadata": {
    "pycharm": {
     "name": "#%%\n"
    }
   },
   "outputs": [
    {
     "data": {
      "text/plain": [
       "Measure_ID           19434\n",
       "DATA_ELEMENT_NAME    19434\n",
       "CODING_SYSTEM        19434\n",
       "CODE                 19434\n",
       "MODIFIER               883\n",
       "PLACE_OF_SERVICE       724\n",
       "AGE                  19434\n",
       "GENDER               19434\n",
       "VERSION              19434\n",
       "CONST                19434\n",
       "dtype: int64"
      ]
     },
     "execution_count": 5,
     "metadata": {},
     "output_type": "execute_result"
    }
   ],
   "source": [
    "basefile.count()"
   ]
  },
  {
   "cell_type": "code",
   "execution_count": 6,
   "id": "74ffdb7e",
   "metadata": {
    "pycharm": {
     "name": "#%%\n"
    }
   },
   "outputs": [
    {
     "data": {
      "text/plain": [
       "Measure_ID           21380\n",
       "DATA_ELEMENT_NAME    21380\n",
       "CODING_SYSTEM        21380\n",
       "CODE                 21380\n",
       "MODIFIER               370\n",
       "PLACE_OF_SERVICE       355\n",
       "AGE                  21380\n",
       "GENDER               21380\n",
       "VERSION              21380\n",
       "CONST                21380\n",
       "dtype: int64"
      ]
     },
     "execution_count": 6,
     "metadata": {},
     "output_type": "execute_result"
    }
   ],
   "source": [
    "newfile.count()"
   ]
  },
  {
   "cell_type": "markdown",
   "id": "9db93fe9",
   "metadata": {
    "pycharm": {
     "name": "#%% md\n"
    }
   },
   "source": [
    "### Joining the two files "
   ]
  },
  {
   "cell_type": "code",
   "execution_count": 7,
   "id": "245ba259",
   "metadata": {
    "pycharm": {
     "name": "#%%\n"
    }
   },
   "outputs": [],
   "source": [
    "key=newfile.columns.values.tolist()"
   ]
  },
  {
   "cell_type": "code",
   "execution_count": 8,
   "id": "6126c39e",
   "metadata": {
    "pycharm": {
     "name": "#%%\n"
    }
   },
   "outputs": [],
   "source": [
    "key.remove(\"VERSION\")"
   ]
  },
  {
   "cell_type": "code",
   "execution_count": 9,
   "id": "76ef79fc",
   "metadata": {
    "pycharm": {
     "name": "#%%\n"
    }
   },
   "outputs": [],
   "source": [
    "joint=newfile.merge(basefile,on=key,how=\"outer\",suffixes=[\"_new\",\"_base\"])"
   ]
  },
  {
   "cell_type": "code",
   "execution_count": 10,
   "id": "8631038a",
   "metadata": {
    "pycharm": {
     "name": "#%%\n"
    }
   },
   "outputs": [],
   "source": [
    "def getJoinMeta(row):\n",
    "    val = \"NONE\"\n",
    "    if (row[\"VERSION_new\"] == \"NEW\") & (row [\"VERSION_base\"] == \"BASE\"):\n",
    "        val = \"COMMON\"\n",
    "    elif row[\"VERSION_new\"] == \"NEW\":\n",
    "        val = \"NEW\"\n",
    "    else: \n",
    "        val = \"BASE\" \n",
    "    return val"
   ]
  },
  {
   "cell_type": "code",
   "execution_count": 11,
   "id": "996c228f",
   "metadata": {
    "pycharm": {
     "name": "#%%\n"
    }
   },
   "outputs": [],
   "source": [
    "joint[\"VERSION\"]= joint.apply(getJoinMeta,axis=1)\n",
    "joint=joint.drop([\"VERSION_new\",\"VERSION_base\"],axis=1)"
   ]
  },
  {
   "cell_type": "code",
   "execution_count": 12,
   "id": "1bb27677",
   "metadata": {
    "pycharm": {
     "name": "#%%\n"
    }
   },
   "outputs": [
    {
     "data": {
      "text/html": [
       "<div>\n",
       "<style scoped>\n",
       "    .dataframe tbody tr th:only-of-type {\n",
       "        vertical-align: middle;\n",
       "    }\n",
       "\n",
       "    .dataframe tbody tr th {\n",
       "        vertical-align: top;\n",
       "    }\n",
       "\n",
       "    .dataframe thead th {\n",
       "        text-align: right;\n",
       "    }\n",
       "</style>\n",
       "<table border=\"1\" class=\"dataframe\">\n",
       "  <thead>\n",
       "    <tr style=\"text-align: right;\">\n",
       "      <th></th>\n",
       "      <th>Measure_ID</th>\n",
       "      <th>DATA_ELEMENT_NAME</th>\n",
       "      <th>CODING_SYSTEM</th>\n",
       "      <th>CODE</th>\n",
       "      <th>MODIFIER</th>\n",
       "      <th>PLACE_OF_SERVICE</th>\n",
       "      <th>AGE</th>\n",
       "      <th>GENDER</th>\n",
       "      <th>CONST</th>\n",
       "      <th>VERSION</th>\n",
       "    </tr>\n",
       "  </thead>\n",
       "  <tbody>\n",
       "  </tbody>\n",
       "</table>\n",
       "</div>"
      ],
      "text/plain": [
       "Empty DataFrame\n",
       "Columns: [Measure_ID, DATA_ELEMENT_NAME, CODING_SYSTEM, CODE, MODIFIER, PLACE_OF_SERVICE, AGE, GENDER, CONST, VERSION]\n",
       "Index: []"
      ]
     },
     "execution_count": 12,
     "metadata": {},
     "output_type": "execute_result"
    }
   ],
   "source": [
    "joint[joint.VERSION==\"NONE\"]"
   ]
  },
  {
   "cell_type": "code",
   "execution_count": 13,
   "id": "e883e026",
   "metadata": {
    "pycharm": {
     "name": "#%%\n"
    }
   },
   "outputs": [
    {
     "data": {
      "text/html": [
       "<div>\n",
       "<style scoped>\n",
       "    .dataframe tbody tr th:only-of-type {\n",
       "        vertical-align: middle;\n",
       "    }\n",
       "\n",
       "    .dataframe tbody tr th {\n",
       "        vertical-align: top;\n",
       "    }\n",
       "\n",
       "    .dataframe thead th {\n",
       "        text-align: right;\n",
       "    }\n",
       "</style>\n",
       "<table border=\"1\" class=\"dataframe\">\n",
       "  <thead>\n",
       "    <tr style=\"text-align: right;\">\n",
       "      <th></th>\n",
       "      <th>Measure_ID</th>\n",
       "      <th>DATA_ELEMENT_NAME</th>\n",
       "      <th>CODING_SYSTEM</th>\n",
       "      <th>CODE</th>\n",
       "      <th>MODIFIER</th>\n",
       "      <th>PLACE_OF_SERVICE</th>\n",
       "      <th>AGE</th>\n",
       "      <th>GENDER</th>\n",
       "      <th>CONST</th>\n",
       "      <th>VERSION</th>\n",
       "    </tr>\n",
       "  </thead>\n",
       "  <tbody>\n",
       "    <tr>\n",
       "      <th>0</th>\n",
       "      <td>1</td>\n",
       "      <td>ENCOUNTER_CODE</td>\n",
       "      <td>C4</td>\n",
       "      <td>99202</td>\n",
       "      <td>NaN</td>\n",
       "      <td>NaN</td>\n",
       "      <td>18 - 75</td>\n",
       "      <td>M, F</td>\n",
       "      <td>CONST</td>\n",
       "      <td>COMMON</td>\n",
       "    </tr>\n",
       "    <tr>\n",
       "      <th>1</th>\n",
       "      <td>1</td>\n",
       "      <td>ENCOUNTER_CODE</td>\n",
       "      <td>C4</td>\n",
       "      <td>99203</td>\n",
       "      <td>NaN</td>\n",
       "      <td>NaN</td>\n",
       "      <td>18 - 75</td>\n",
       "      <td>M, F</td>\n",
       "      <td>CONST</td>\n",
       "      <td>COMMON</td>\n",
       "    </tr>\n",
       "    <tr>\n",
       "      <th>2</th>\n",
       "      <td>1</td>\n",
       "      <td>ENCOUNTER_CODE</td>\n",
       "      <td>C4</td>\n",
       "      <td>99204</td>\n",
       "      <td>NaN</td>\n",
       "      <td>NaN</td>\n",
       "      <td>18 - 75</td>\n",
       "      <td>M, F</td>\n",
       "      <td>CONST</td>\n",
       "      <td>COMMON</td>\n",
       "    </tr>\n",
       "    <tr>\n",
       "      <th>3</th>\n",
       "      <td>1</td>\n",
       "      <td>ENCOUNTER_CODE</td>\n",
       "      <td>C4</td>\n",
       "      <td>99205</td>\n",
       "      <td>NaN</td>\n",
       "      <td>NaN</td>\n",
       "      <td>18 - 75</td>\n",
       "      <td>M, F</td>\n",
       "      <td>CONST</td>\n",
       "      <td>COMMON</td>\n",
       "    </tr>\n",
       "    <tr>\n",
       "      <th>4</th>\n",
       "      <td>1</td>\n",
       "      <td>ENCOUNTER_CODE</td>\n",
       "      <td>C4</td>\n",
       "      <td>99212</td>\n",
       "      <td>NaN</td>\n",
       "      <td>NaN</td>\n",
       "      <td>18 - 75</td>\n",
       "      <td>M, F</td>\n",
       "      <td>CONST</td>\n",
       "      <td>COMMON</td>\n",
       "    </tr>\n",
       "    <tr>\n",
       "      <th>...</th>\n",
       "      <td>...</td>\n",
       "      <td>...</td>\n",
       "      <td>...</td>\n",
       "      <td>...</td>\n",
       "      <td>...</td>\n",
       "      <td>...</td>\n",
       "      <td>...</td>\n",
       "      <td>...</td>\n",
       "      <td>...</td>\n",
       "      <td>...</td>\n",
       "    </tr>\n",
       "    <tr>\n",
       "      <th>25968</th>\n",
       "      <td>437</td>\n",
       "      <td>G_CODE_PD</td>\n",
       "      <td>HCPCS</td>\n",
       "      <td>G9641</td>\n",
       "      <td>NaN</td>\n",
       "      <td>NaN</td>\n",
       "      <td>≥0</td>\n",
       "      <td>M, F</td>\n",
       "      <td>CONST</td>\n",
       "      <td>BASE</td>\n",
       "    </tr>\n",
       "    <tr>\n",
       "      <th>25969</th>\n",
       "      <td>437</td>\n",
       "      <td>G_CODE_PN</td>\n",
       "      <td>HCPCS</td>\n",
       "      <td>G9641</td>\n",
       "      <td>NaN</td>\n",
       "      <td>NaN</td>\n",
       "      <td>≥0</td>\n",
       "      <td>M, F</td>\n",
       "      <td>CONST</td>\n",
       "      <td>BASE</td>\n",
       "    </tr>\n",
       "    <tr>\n",
       "      <th>25970</th>\n",
       "      <td>437</td>\n",
       "      <td>G_CODE_PD_Exl</td>\n",
       "      <td>HCPCS</td>\n",
       "      <td>G9640</td>\n",
       "      <td>NaN</td>\n",
       "      <td>NaN</td>\n",
       "      <td>≥0</td>\n",
       "      <td>M, F</td>\n",
       "      <td>CONST</td>\n",
       "      <td>BASE</td>\n",
       "    </tr>\n",
       "    <tr>\n",
       "      <th>25971</th>\n",
       "      <td>437</td>\n",
       "      <td>G_CODE_PD</td>\n",
       "      <td>HCPCS</td>\n",
       "      <td>G9639</td>\n",
       "      <td>NaN</td>\n",
       "      <td>NaN</td>\n",
       "      <td>≥0</td>\n",
       "      <td>M, F</td>\n",
       "      <td>CONST</td>\n",
       "      <td>BASE</td>\n",
       "    </tr>\n",
       "    <tr>\n",
       "      <th>25972</th>\n",
       "      <td>437</td>\n",
       "      <td>G_CODE_PN_X</td>\n",
       "      <td>HCPCS</td>\n",
       "      <td>G9639</td>\n",
       "      <td>NaN</td>\n",
       "      <td>NaN</td>\n",
       "      <td>≥0</td>\n",
       "      <td>M, F</td>\n",
       "      <td>CONST</td>\n",
       "      <td>BASE</td>\n",
       "    </tr>\n",
       "  </tbody>\n",
       "</table>\n",
       "<p>25973 rows × 10 columns</p>\n",
       "</div>"
      ],
      "text/plain": [
       "      Measure_ID DATA_ELEMENT_NAME CODING_SYSTEM   CODE MODIFIER  \\\n",
       "0              1    ENCOUNTER_CODE            C4  99202      NaN   \n",
       "1              1    ENCOUNTER_CODE            C4  99203      NaN   \n",
       "2              1    ENCOUNTER_CODE            C4  99204      NaN   \n",
       "3              1    ENCOUNTER_CODE            C4  99205      NaN   \n",
       "4              1    ENCOUNTER_CODE            C4  99212      NaN   \n",
       "...          ...               ...           ...    ...      ...   \n",
       "25968        437         G_CODE_PD         HCPCS  G9641      NaN   \n",
       "25969        437         G_CODE_PN         HCPCS  G9641      NaN   \n",
       "25970        437     G_CODE_PD_Exl         HCPCS  G9640      NaN   \n",
       "25971        437         G_CODE_PD         HCPCS  G9639      NaN   \n",
       "25972        437       G_CODE_PN_X         HCPCS  G9639      NaN   \n",
       "\n",
       "      PLACE_OF_SERVICE      AGE GENDER  CONST VERSION  \n",
       "0                  NaN  18 - 75   M, F  CONST  COMMON  \n",
       "1                  NaN  18 - 75   M, F  CONST  COMMON  \n",
       "2                  NaN  18 - 75   M, F  CONST  COMMON  \n",
       "3                  NaN  18 - 75   M, F  CONST  COMMON  \n",
       "4                  NaN  18 - 75   M, F  CONST  COMMON  \n",
       "...                ...      ...    ...    ...     ...  \n",
       "25968              NaN       ≥0   M, F  CONST    BASE  \n",
       "25969              NaN       ≥0   M, F  CONST    BASE  \n",
       "25970              NaN       ≥0   M, F  CONST    BASE  \n",
       "25971              NaN       ≥0   M, F  CONST    BASE  \n",
       "25972              NaN       ≥0   M, F  CONST    BASE  \n",
       "\n",
       "[25973 rows x 10 columns]"
      ]
     },
     "execution_count": 13,
     "metadata": {},
     "output_type": "execute_result"
    }
   ],
   "source": [
    "joint"
   ]
  },
  {
   "cell_type": "code",
   "execution_count": 14,
   "id": "367119d9",
   "metadata": {
    "pycharm": {
     "name": "#%%\n"
    }
   },
   "outputs": [
    {
     "data": {
      "text/plain": [
       "4560"
      ]
     },
     "execution_count": 14,
     "metadata": {},
     "output_type": "execute_result"
    }
   ],
   "source": [
    "onlybase=joint[joint.VERSION==\"BASE\"]\n",
    "len(onlybase)"
   ]
  },
  {
   "cell_type": "code",
   "execution_count": 15,
   "id": "b08e401d",
   "metadata": {
    "pycharm": {
     "name": "#%%\n"
    }
   },
   "outputs": [
    {
     "data": {
      "text/plain": [
       "6513"
      ]
     },
     "execution_count": 15,
     "metadata": {},
     "output_type": "execute_result"
    }
   ],
   "source": [
    "onlynew=joint[joint.VERSION==\"NEW\"]\n",
    "len(onlynew)"
   ]
  },
  {
   "cell_type": "code",
   "execution_count": 16,
   "id": "551925f2",
   "metadata": {
    "pycharm": {
     "name": "#%%\n"
    }
   },
   "outputs": [],
   "source": [
    "intersection=joint[joint.VERSION==\"COMMON\"]"
   ]
  },
  {
   "cell_type": "code",
   "execution_count": 17,
   "id": "b2247bc7",
   "metadata": {
    "pycharm": {
     "name": "#%%\n"
    }
   },
   "outputs": [
    {
     "data": {
      "text/plain": [
       "14900"
      ]
     },
     "execution_count": 17,
     "metadata": {},
     "output_type": "execute_result"
    }
   ],
   "source": [
    "len(intersection)"
   ]
  },
  {
   "cell_type": "markdown",
   "id": "a4a28283",
   "metadata": {
    "pycharm": {
     "name": "#%% md\n"
    }
   },
   "source": [
    "# New against Base comparison"
   ]
  },
  {
   "cell_type": "markdown",
   "id": "4aff4be4",
   "metadata": {
    "pycharm": {
     "name": "#%% md\n"
    }
   },
   "source": [
    "## Defining functions"
   ]
  },
  {
   "cell_type": "code",
   "execution_count": 18,
   "id": "faa2556d",
   "metadata": {
    "pycharm": {
     "name": "#%%\n"
    }
   },
   "outputs": [],
   "source": [
    "def columnToSet(df,column:str):\n",
    "    return set(df[column].unique().tolist())"
   ]
  },
  {
   "cell_type": "code",
   "execution_count": 19,
   "id": "e3d29d3c",
   "metadata": {
    "pycharm": {
     "name": "#%%\n"
    }
   },
   "outputs": [],
   "source": [
    "def analyze_difference(joint,partcolumn,partid,subcol,debug=False):\n",
    "    subset=joint[joint[partcolumn]==partid]\n",
    "    basedf=subset[(subset.VERSION==\"BASE\") | (subset.VERSION==\"COMMON\")]\n",
    "    newdf=subset[(subset.VERSION==\"NEW\")|(subset.VERSION==\"COMMON\")]\n",
    "    \n",
    "    newids=columnToSet(newdf,subcol)\n",
    "    baseids=columnToSet(basedf,subcol)\n",
    "    \n",
    "    added=newids-baseids\n",
    "    removed=baseids-newids\n",
    "    \n",
    "    #get all the changed IDs \n",
    "    changedids=columnToSet(subset[subset.VERSION!=\"COMMON\"],subcol)\n",
    "    \n",
    "    \n",
    "    changed=changedids-added-removed\n",
    "    \n",
    "    if debug==True:\n",
    "        print(\"Added\")\n",
    "        print(added)\n",
    "        print(\"Removed\")\n",
    "        print(removed)\n",
    "        print(\"Changed\")\n",
    "        print(changed)\n",
    "    \n",
    "    return (subset,added|removed|changed) \n",
    "    "
   ]
  },
  {
   "cell_type": "code",
   "execution_count": 20,
   "id": "68dfedf7",
   "metadata": {
    "pycharm": {
     "name": "#%%\n"
    }
   },
   "outputs": [],
   "source": [
    "(df,changed)=analyze_difference(joint,\"Measure_ID\",\"93\",\"CODE\")"
   ]
  },
  {
   "cell_type": "markdown",
   "id": "f70295c1",
   "metadata": {
    "pycharm": {
     "name": "#%% md\n"
    }
   },
   "source": [
    "### Iterative process"
   ]
  },
  {
   "cell_type": "code",
   "execution_count": 21,
   "id": "f3ee7522",
   "metadata": {
    "pycharm": {
     "name": "#%%\n"
    }
   },
   "outputs": [],
   "source": [
    "(df,changed)=analyze_difference(joint,\"CONST\",\"CONST\",\"Measure_ID\")"
   ]
  },
  {
   "cell_type": "code",
   "execution_count": 22,
   "id": "f543dede",
   "metadata": {
    "pycharm": {
     "name": "#%%\n"
    }
   },
   "outputs": [],
   "source": [
    "(dfL1,changed)=analyze_difference(df,\"Measure_ID\",\"93\",\"DATA_ELEMENT_NAME\")"
   ]
  },
  {
   "cell_type": "code",
   "execution_count": 23,
   "id": "5cbf39f9",
   "metadata": {
    "pycharm": {
     "name": "#%%\n"
    }
   },
   "outputs": [],
   "source": [
    "(dfL2,changed)=analyze_difference(dfL1,\"DATA_ELEMENT_NAME\",\"CPT_II_PD_Exe\",\"CODE\")"
   ]
  },
  {
   "cell_type": "code",
   "execution_count": 24,
   "id": "44129a84",
   "metadata": {
    "pycharm": {
     "name": "#%%\n"
    }
   },
   "outputs": [
    {
     "data": {
      "text/html": [
       "<div>\n",
       "<style scoped>\n",
       "    .dataframe tbody tr th:only-of-type {\n",
       "        vertical-align: middle;\n",
       "    }\n",
       "\n",
       "    .dataframe tbody tr th {\n",
       "        vertical-align: top;\n",
       "    }\n",
       "\n",
       "    .dataframe thead th {\n",
       "        text-align: right;\n",
       "    }\n",
       "</style>\n",
       "<table border=\"1\" class=\"dataframe\">\n",
       "  <thead>\n",
       "    <tr style=\"text-align: right;\">\n",
       "      <th></th>\n",
       "      <th>Measure_ID</th>\n",
       "      <th>DATA_ELEMENT_NAME</th>\n",
       "      <th>CODING_SYSTEM</th>\n",
       "      <th>CODE</th>\n",
       "      <th>MODIFIER</th>\n",
       "      <th>PLACE_OF_SERVICE</th>\n",
       "      <th>AGE</th>\n",
       "      <th>GENDER</th>\n",
       "      <th>CONST</th>\n",
       "      <th>VERSION</th>\n",
       "    </tr>\n",
       "  </thead>\n",
       "  <tbody>\n",
       "    <tr>\n",
       "      <th>9983</th>\n",
       "      <td>93</td>\n",
       "      <td>CPT_II_PD_Exe</td>\n",
       "      <td>CPT_II</td>\n",
       "      <td>4131F</td>\n",
       "      <td>1P</td>\n",
       "      <td>NaN</td>\n",
       "      <td>≥2</td>\n",
       "      <td>M, F</td>\n",
       "      <td>CONST</td>\n",
       "      <td>NEW</td>\n",
       "    </tr>\n",
       "    <tr>\n",
       "      <th>23101</th>\n",
       "      <td>93</td>\n",
       "      <td>CPT_II_PD_Exe</td>\n",
       "      <td>CPT_II</td>\n",
       "      <td>4131F</td>\n",
       "      <td>1P, ≠ 2P, 3P, 8P</td>\n",
       "      <td>NaN</td>\n",
       "      <td>≥2</td>\n",
       "      <td>M, F</td>\n",
       "      <td>CONST</td>\n",
       "      <td>BASE</td>\n",
       "    </tr>\n",
       "  </tbody>\n",
       "</table>\n",
       "</div>"
      ],
      "text/plain": [
       "      Measure_ID DATA_ELEMENT_NAME CODING_SYSTEM   CODE          MODIFIER  \\\n",
       "9983          93     CPT_II_PD_Exe        CPT_II  4131F                1P   \n",
       "23101         93     CPT_II_PD_Exe        CPT_II  4131F  1P, ≠ 2P, 3P, 8P   \n",
       "\n",
       "      PLACE_OF_SERVICE AGE GENDER  CONST VERSION  \n",
       "9983               NaN  ≥2   M, F  CONST     NEW  \n",
       "23101              NaN  ≥2   M, F  CONST    BASE  "
      ]
     },
     "execution_count": 24,
     "metadata": {},
     "output_type": "execute_result"
    }
   ],
   "source": [
    "dfL2[dfL2.CODE==\"4131F\"]"
   ]
  },
  {
   "cell_type": "markdown",
   "id": "2825b711",
   "metadata": {
    "pycharm": {
     "name": "#%%\n"
    }
   },
   "source": [
    "### Recursion"
   ]
  },
  {
   "cell_type": "code",
   "execution_count": 25,
   "id": "25ae9035",
   "metadata": {},
   "outputs": [],
   "source": [
    "(df,changed_mid)=analyze_difference(joint,\"CONST\",\"CONST\",\"Measure_ID\")"
   ]
  },
  {
   "cell_type": "code",
   "execution_count": 26,
   "id": "15cc9d50",
   "metadata": {
    "pycharm": {
     "name": "#%%\n"
    }
   },
   "outputs": [
    {
     "name": "stdout",
     "output_type": "stream",
     "text": [
      "===for Measure ID 50=== \n",
      "Added\n",
      "set()\n",
      "Removed\n",
      "set()\n",
      "Changed\n",
      "{'CPT_II_PD', 'CPT_II_PN_X', 'CPT_II_PN', 'ENCOUNTER_CODE'}\n",
      "===for Measure ID 419=== \n",
      "Added\n",
      "set()\n",
      "Removed\n",
      "{'G_CODE_5_PN_X', 'DX_CODE', 'G_CODE_2_PN', 'G_CODE_3_PD_Exe', 'G_CODE_5_PD', 'ENCOUNTER_CODE', 'G_CODE_2_PD', 'G_CODE_4_PD_Exe', 'G_CODE_1_PD_Exl'}\n",
      "Changed\n",
      "set()\n",
      "===for Measure ID 39=== \n",
      "Added\n",
      "{'DX_CODE'}\n",
      "Removed\n",
      "{'DX_CODE_X'}\n",
      "Changed\n",
      "{'ENCOUNTER_CODE'}\n",
      "===for Measure ID 128=== \n",
      "Added\n",
      "set()\n",
      "Removed\n",
      "set()\n",
      "Changed\n",
      "{'G_CODE_PD_Exe', 'ENCOUNTER_CODE'}\n",
      "===for Measure ID 21=== \n",
      "Added\n",
      "set()\n",
      "Removed\n",
      "set()\n",
      "Changed\n",
      "{'PROC_CODE'}\n",
      "===for Measure ID 317=== \n",
      "Added\n",
      "set()\n",
      "Removed\n",
      "set()\n",
      "Changed\n",
      "{'ENCOUNTER_CODE'}\n",
      "===for Measure ID 1=== \n",
      "Added\n",
      "{'PROC_CODE_PD_Exl', 'DX_CODE_PD_Exl'}\n",
      "Removed\n",
      "{'G_CODE_PN_X'}\n",
      "Changed\n",
      "{'CPT_II_PN_X', 'ENCOUNTER_CODE', 'CPT_II_PD', 'CPT_II_PN', 'G_CODE_PD_Exl'}\n",
      "===for Measure ID 47=== \n",
      "Added\n",
      "set()\n",
      "Removed\n",
      "set()\n",
      "Changed\n",
      "{'CPT_II_PD', 'CPT_II_PN_X', 'CPT_II_PN', 'ENCOUNTER_CODE'}\n",
      "===for Measure ID 155=== \n",
      "Added\n",
      "set()\n",
      "Removed\n",
      "set()\n",
      "Changed\n",
      "{'CPT_II_PD', 'CPT_II_PN_X', 'CPT_II_PD_Exe', 'CPT_II_PN', 'CPT_II_DENOM_CODE', 'ENCOUNTER_CODE'}\n",
      "===for Measure ID 226.02=== \n",
      "Added\n",
      "{'CPT_II_PD_Exe_3', 'CPT_II_PD_3', 'G_CODE_PD_Exe_3', 'CPT_II_PN_3', 'ENCOUNTER_CODE_3', 'CPT_II_PN_X_3'}\n",
      "Removed\n",
      "{'CPT_II_3_PD', 'CPT_II_3_PD_Exe', 'G_CODE_3_PD_Exe', 'CPT_II_3_PN_X', 'CPT_II_3_PN', 'ENCOUNTER_CODE'}\n",
      "Changed\n",
      "set()\n",
      "===for Measure ID 130=== \n",
      "Added\n",
      "set()\n",
      "Removed\n",
      "set()\n",
      "Changed\n",
      "{'ENCOUNTER_CODE'}\n",
      "===for Measure ID 320=== \n",
      "Added\n",
      "set()\n",
      "Removed\n",
      "set()\n",
      "Changed\n",
      "{'CPT_II_PD', 'CPT_II_PN_X', 'CPT_II_PD_Exe', 'CPT_II_PN', 'PROC_CODE'}\n",
      "===for Measure ID 225=== \n",
      "Added\n",
      "set()\n",
      "Removed\n",
      "set()\n",
      "Changed\n",
      "{'CPT_II_PD', 'CPT_II_PD_Exe', 'CPT_II_PN', 'CPT_II_PN_X'}\n",
      "===for Measure ID 113=== \n",
      "Added\n",
      "{'PROC_CODE_PD_Exl', 'DX_CODE_PD_Exl'}\n",
      "Removed\n",
      "set()\n",
      "Changed\n",
      "{'CPT_II_PD', 'CPT_II_PN_X', 'CPT_II_PN', 'G_CODE_PD_Exl', 'ENCOUNTER_CODE'}\n",
      "===for Measure ID 181=== \n",
      "Added\n",
      "set()\n",
      "Removed\n",
      "set()\n",
      "Changed\n",
      "{'ENCOUNTER_CODE'}\n",
      "===for Measure ID 249=== \n",
      "Added\n",
      "set()\n",
      "Removed\n",
      "set()\n",
      "Changed\n",
      "{'CPT_II_PD', 'CPT_II_PD_Exe', 'CPT_II_PN', 'CPT_II_PN_X'}\n",
      "===for Measure ID 141=== \n",
      "Added\n",
      "set()\n",
      "Removed\n",
      "set()\n",
      "Changed\n",
      "{'CPT_II_3_PD', 'CPT_II_3_PN_X', 'CPT_II_2_PD', 'CPT_II_2_PN', 'CPT_II_1_PD', 'ENCOUNTER_CODE', 'CPT_II_4_PN_X', 'CPT_II_4_PD', 'CPT_II_1_PN'}\n",
      "===for Measure ID 236=== \n",
      "Added\n",
      "{'G_CODE_PD_Exl', 'PROC_CODE_PD_Exl', 'DX_CODE_PD_Exl'}\n",
      "Removed\n",
      "{'G_CODE_6_PD_Exl', 'G_CODE_8_PD_Exl', 'G_CODE_10_PD_Exl', 'G_CODE_7_PD_Exl', 'G_CODE_9_PD_Exl'}\n",
      "Changed\n",
      "{'ENCOUNTER_CODE'}\n",
      "===for Measure ID 24.01=== \n",
      "Added\n",
      "{'CPT_II_PN_X_2', 'G_CODE_PD_Exl_2', 'CPT_II_PN_2', 'CPT_II_PD_2'}\n",
      "Removed\n",
      "{'G_CODE_PD_Exl', 'CPT_II_PD', 'CPT_II_PN_X', 'CPT_II_PN'}\n",
      "Changed\n",
      "{'DX_CODE_2'}\n",
      "===for Measure ID 416=== \n",
      "Added\n",
      "set()\n",
      "Removed\n",
      "set()\n",
      "Changed\n",
      "{'DX_CODE'}\n",
      "===for Measure ID 111=== \n",
      "Added\n",
      "set()\n",
      "Removed\n",
      "set()\n",
      "Changed\n",
      "{'CPT_II_PD', 'CPT_II_PN_X', 'CPT_II_PN', 'ENCOUNTER_CODE'}\n",
      "===for Measure ID 226.01=== \n",
      "Added\n",
      "{'G_CODE_2_PD_Exe_2', 'G_CODE_1_PD_2', 'G_CODE_3_PN_X_2', 'G_CODE_1_PN_2', 'G_CODE_3_PD_2', 'ENCOUNTER_CODE_2'}\n",
      "Removed\n",
      "{'G_CODE_2_PN', 'G_CODE_DENOM_CODE', 'G_CODE_2_PD_Exe', 'ENCOUNTER_CODE', 'G_CODE_2_PD', 'G_CODE_2_PN_X'}\n",
      "Changed\n",
      "set()\n",
      "===for Measure ID 437=== \n",
      "Added\n",
      "set()\n",
      "Removed\n",
      "{'G_CODE_PD_Exl', 'PROC_CODE', 'G_CODE_PN_X', 'G_CODE_PD', 'G_CODE_PN'}\n",
      "Changed\n",
      "set()\n",
      "===for Measure ID 134=== \n",
      "Added\n",
      "{'DX_CODE_PD_Exl'}\n",
      "Removed\n",
      "{'DX_CODE_Exl'}\n",
      "Changed\n",
      "{'ENCOUNTER_CODE'}\n",
      "===for Measure ID 93=== \n",
      "Added\n",
      "set()\n",
      "Removed\n",
      "set()\n",
      "Changed\n",
      "{'CPT_II_PD', 'CPT_II_PN_X', 'CPT_II_PD_Exe', 'CPT_II_PN', 'ENCOUNTER_CODE'}\n",
      "===for Measure ID 182=== \n",
      "Added\n",
      "set()\n",
      "Removed\n",
      "set()\n",
      "Changed\n",
      "{'ENCOUNTER_CODE'}\n",
      "===for Measure ID 110=== \n",
      "Added\n",
      "set()\n",
      "Removed\n",
      "set()\n",
      "Changed\n",
      "{'ENCOUNTER_CODE'}\n",
      "===for Measure ID 254=== \n",
      "Added\n",
      "{'ENCOUNTER_CODE'}\n",
      "Removed\n",
      "{'ENCOUNTER_CODE_1', 'ENCOUNTER_CODE_2'}\n",
      "Changed\n",
      "set()\n",
      "===for Measure ID 48=== \n",
      "Added\n",
      "set()\n",
      "Removed\n",
      "{'CPT_II_PD', 'CPT_II_PN_X', 'CPT_II_PN', 'G_CODE_PD_Exl', 'ENCOUNTER_CODE'}\n",
      "Changed\n",
      "set()\n",
      "===for Measure ID 268=== \n",
      "Added\n",
      "set()\n",
      "Removed\n",
      "{'CPT_II_PD', 'DX_CODE', 'CPT_II_PN_X', 'CPT_II_PN', 'G_CODE_PD_Exl', 'ENCOUNTER_CODE'}\n",
      "Changed\n",
      "set()\n",
      "===for Measure ID 326=== \n",
      "Added\n",
      "set()\n",
      "Removed\n",
      "set()\n",
      "Changed\n",
      "{'ENCOUNTER_CODE'}\n",
      "===for Measure ID 195=== \n",
      "Added\n",
      "set()\n",
      "Removed\n",
      "set()\n",
      "Changed\n",
      "{'CPT_II_PD', 'CPT_II_PN_X', 'PROC_CODE', 'CPT_II_PN'}\n",
      "===for Measure ID 154=== \n",
      "Added\n",
      "set()\n",
      "Removed\n",
      "set()\n",
      "Changed\n",
      "{'CPT_II_4_PN', 'CPT_II_6_PD', 'ENCOUNTER_CODE', 'CPT_II_4_PD', 'CPT_II_2_PD_Exl', 'CPT_II_5_PD_Exe', 'CPT_II_6_PN_X', 'CPT_II_3_PD_Exl'}\n",
      "===for Measure ID 261=== \n",
      "Added\n",
      "set()\n",
      "Removed\n",
      "set()\n",
      "Changed\n",
      "{'DX_CODE'}\n",
      "===for Measure ID 145=== \n",
      "Added\n",
      "{'ENCOUNTER_CODE'}\n",
      "Removed\n",
      "{'PROC_CODE'}\n",
      "Changed\n",
      "set()\n",
      "===for Measure ID 146=== \n",
      "Added\n",
      "set()\n",
      "Removed\n",
      "{'CPT_II_PD', 'DX_CODE', 'CPT_II_PN_X', 'CPT_II_PN', 'PROC_CODE'}\n",
      "Changed\n",
      "set()\n",
      "===for Measure ID 406=== \n",
      "Added\n",
      "{'ENCOUNTER_CODE'}\n",
      "Removed\n",
      "{'PROC_CODE'}\n",
      "Changed\n",
      "set()\n",
      "===for Measure ID 52=== \n",
      "Added\n",
      "set()\n",
      "Removed\n",
      "{'DX_CODE', 'G_CODE_3_PN', 'G_CODE_7_PD', 'ENCOUNTER_CODE', 'G_CODE_4_PD_Exe', 'G_CODE_3_PD', 'G_CODE_1_PD_Exl', 'G_CODE_5_PD_Exe', 'G_CODE_7_PN_X', 'G_CODE_2_PD_Exl', 'G_CODE_6_PD_Exe'}\n",
      "Changed\n",
      "set()\n",
      "===for Measure ID 76=== \n",
      "Added\n",
      "set()\n",
      "Removed\n",
      "set()\n",
      "Changed\n",
      "{'CPT_II_PD', 'CPT_II_PD_Exe', 'CPT_II_PN', 'CPT_II_PN_X'}\n",
      "===for Measure ID 12=== \n",
      "Added\n",
      "set()\n",
      "Removed\n",
      "{'CPT_II_PD', 'DX_CODE', 'CPT_II_PN_X', 'CPT_II_PD_Exe', 'CPT_II_PN', 'ENCOUNTER_CODE'}\n",
      "Changed\n",
      "set()\n",
      "===for Measure ID 24=== \n",
      "Added\n",
      "{'CPT_II_PD_1', 'G_CODE_PD_Exl_1', 'CPT_II_PN_X_1', 'CPT_II_PN_1'}\n",
      "Removed\n",
      "{'G_CODE_PD_Exl', 'CPT_II_PD', 'CPT_II_PN_X', 'CPT_II_PN'}\n",
      "Changed\n",
      "{'DX_CODE_1', 'ENCOUNTER_CODE_1'}\n",
      "===for Measure ID 147=== \n",
      "Added\n",
      "{'ENCOUNTER_CODE'}\n",
      "Removed\n",
      "{'PROC_CODE'}\n",
      "Changed\n",
      "{'CPT_II_PD_Exe', 'CPT_II_PD', 'CPT_II_PN_X', 'CPT_II_PN'}\n",
      "===for Measure ID 112=== \n",
      "Added\n",
      "{'PROC_CODE_PD_Exl', 'DX_CODE_PD_Exl'}\n",
      "Removed\n",
      "set()\n",
      "Changed\n",
      "{'G_CODE_PD_Exl', 'ENCOUNTER_CODE'}\n",
      "===for Measure ID 418.01=== \n",
      "Added\n",
      "{'G_CODE_PN_X_2', 'G_CODE_PN_2', 'CPT_II_PD_2', 'G_CODE_PD_Exl_2', 'G_CODE_PD_2', 'CPT_II_PN_X_2', 'CPT_II_PN_2'}\n",
      "Removed\n",
      "{'CPT_II_PN_X', 'G_CODE_PN_X', 'G_CODE_PD', 'G_CODE_PN', 'CPT_II_PD', 'CPT_II_PN', 'G_CODE_PD_Exl'}\n",
      "Changed\n",
      "{'DX_CODE_2'}\n",
      "===for Measure ID 425=== \n",
      "Added\n",
      "set()\n",
      "Removed\n",
      "set()\n",
      "Changed\n",
      "{'PROC_CODE'}\n",
      "===for Measure ID 23=== \n",
      "Added\n",
      "set()\n",
      "Removed\n",
      "set()\n",
      "Changed\n",
      "{'CPT_II_PD', 'CPT_II_PN_X', 'CPT_II_PD_Exe', 'PROC_CODE', 'CPT_II_PN'}\n",
      "===for Measure ID 14=== \n",
      "Added\n",
      "set()\n",
      "Removed\n",
      "set()\n",
      "Changed\n",
      "{'ENCOUNTER_CODE'}\n",
      "===for Measure ID 422=== \n",
      "Added\n",
      "set()\n",
      "Removed\n",
      "set()\n",
      "Changed\n",
      "{'PROC_CODE'}\n",
      "===for Measure ID 436=== \n",
      "Added\n",
      "set()\n",
      "Removed\n",
      "set()\n",
      "Changed\n",
      "{'PROC_CODE'}\n",
      "===for Measure ID 117=== \n",
      "Added\n",
      "{'CPT_II_PN_X', 'PROC_CODE_PD_Exl', 'DX_CODE_PD_Exl'}\n",
      "Removed\n",
      "{'G_CODE_PD', 'G_CODE_PN', 'G_CODE_PN_X'}\n",
      "Changed\n",
      "{'CPT_II_PD', 'G_CODE_PD_Exl', 'CPT_II_PN', 'ENCOUNTER_CODE'}\n",
      "===for Measure ID 418=== \n",
      "Added\n",
      "{'G_CODE_PN_X_1', 'G_CODE_PN_1', 'CPT_II_PN_X_1', 'CPT_II_PD_1', 'G_CODE_PD_1', 'CPT_II_PN_1', 'G_CODE_PD_Exl_1'}\n",
      "Removed\n",
      "{'CPT_II_PN_X', 'G_CODE_PN_X', 'G_Code_PD_Exl', 'G_CODE_PD', 'G_CODE_PN', 'CPT_II_PD', 'CPT_II_PN', 'G_CODE_PD_Exl'}\n",
      "Changed\n",
      "{'DX_CODE_1', 'ENCOUNTER_CODE_1'}\n",
      "===for Measure ID 226=== \n",
      "Added\n",
      "{'G_CODE_PN_X_1', 'G_CODE_PN_1', 'G_CODE_PD_Exe_1', 'G_CODE_PD_1', 'ENCOUNTER_CODE_1'}\n",
      "Removed\n",
      "{'G_CODE_1_PN', 'ENCOUNTER_CODE', 'G_CODE_1_PD_Exe', 'G_CODE_1_PD', 'G_CODE_1_PN_X'}\n",
      "Changed\n",
      "set()\n",
      "===for Measure ID 395=== \n",
      "Added\n",
      "{'ENCOUNTER_CODE'}\n",
      "Removed\n",
      "{'PROC_CODE'}\n",
      "Changed\n",
      "set()\n",
      "===for Measure ID 435=== \n",
      "Added\n",
      "set()\n",
      "Removed\n",
      "{'G_CODE_PD_Exe', 'DX_CODE', 'G_CODE_PN_X', 'G_CODE_PD', 'G_CODE_PN', 'ENCOUNTER_CODE'}\n",
      "Changed\n",
      "set()\n",
      "===for Measure ID 405=== \n",
      "Added\n",
      "set()\n",
      "Removed\n",
      "{'G_CODE_DENOM_CODE'}\n",
      "Changed\n",
      "{'PROC_CODE'}\n",
      "===for Measure ID 250=== \n",
      "Added\n",
      "set()\n",
      "Removed\n",
      "set()\n",
      "Changed\n",
      "{'CPT_II_PD', 'CPT_II_PD_Exe', 'CPT_II_PN', 'CPT_II_PN_X'}\n"
     ]
    }
   ],
   "source": [
    "mid={}\n",
    "changed_den={}\n",
    "for i in changed_mid:\n",
    "    print(\"===for Measure ID \"+i+\"=== \")\n",
    "    (mid[i],changed_den[i])=analyze_difference(df,\"Measure_ID\",i,\"DATA_ELEMENT_NAME\",True)\n",
    "    "
   ]
  },
  {
   "cell_type": "code",
   "execution_count": null,
   "id": "dab80c8e",
   "metadata": {},
   "outputs": [],
   "source": []
  }
 ],
 "metadata": {
  "kernelspec": {
   "display_name": "Python 3 (ipykernel)",
   "language": "python",
   "name": "python3"
  },
  "language_info": {
   "codemirror_mode": {
    "name": "ipython",
    "version": 3
   },
   "file_extension": ".py",
   "mimetype": "text/x-python",
   "name": "python",
   "nbconvert_exporter": "python",
   "pygments_lexer": "ipython3",
   "version": "3.8.13"
  }
 },
 "nbformat": 4,
 "nbformat_minor": 5
}