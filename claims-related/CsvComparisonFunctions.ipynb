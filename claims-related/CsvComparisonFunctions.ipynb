{
 "cells": [
  {
   "cell_type": "code",
   "execution_count": 1,
   "id": "ac6205fa",
   "metadata": {},
   "outputs": [],
   "source": [
    "import pandas as pd \n",
    "import numpy as np"
   ]
  },
  {
   "cell_type": "code",
   "execution_count": 37,
   "id": "a9aaab62",
   "metadata": {},
   "outputs": [],
   "source": [
    "basefile = pd.read_csv(\"data/2020_Claims_SingleSource_v1.4.csv\",dtype=str)\n",
    "newfile = pd.read_csv(\"data/2021_Claims_SingleSource_v1.3.csv\",dtype=str)\n",
    "\n",
    "basefile.columns = basefile.columns.str.replace(' ', '_')\n",
    "newfile.columns = newfile.columns.str.replace(' ', '_')\n",
    "# Version to capture \n",
    "basefile[\"VERSION\"] = \"BASE\"\n",
    "newfile[\"VERSION\"] = \"NEW\"\n",
    "# Const to capture the whole file\n",
    "basefile[\"CONST\"]=\"CONST\"\n",
    "newfile[\"CONST\"]=\"CONST\""
   ]
  },
  {
   "cell_type": "markdown",
   "id": "b0714368",
   "metadata": {},
   "source": [
    "### Count comparison"
   ]
  },
  {
   "cell_type": "code",
   "execution_count": 3,
   "id": "0f17a287",
   "metadata": {},
   "outputs": [
    {
     "data": {
      "text/plain": [
       "Measure_ID           19434\n",
       "DATA_ELEMENT_NAME    19434\n",
       "CODING_SYSTEM        19434\n",
       "CODE                 19434\n",
       "MODIFIER               883\n",
       "PLACE_OF_SERVICE       724\n",
       "AGE                  19434\n",
       "GENDER               19434\n",
       "VERSION              19434\n",
       "dtype: int64"
      ]
     },
     "execution_count": 3,
     "metadata": {},
     "output_type": "execute_result"
    }
   ],
   "source": [
    "basefile.count()"
   ]
  },
  {
   "cell_type": "code",
   "execution_count": 4,
   "id": "74ffdb7e",
   "metadata": {},
   "outputs": [
    {
     "data": {
      "text/plain": [
       "Measure_ID           21380\n",
       "DATA_ELEMENT_NAME    21380\n",
       "CODING_SYSTEM        21380\n",
       "CODE                 21380\n",
       "MODIFIER               370\n",
       "PLACE_OF_SERVICE       355\n",
       "AGE                  21380\n",
       "GENDER               21380\n",
       "VERSION              21380\n",
       "dtype: int64"
      ]
     },
     "execution_count": 4,
     "metadata": {},
     "output_type": "execute_result"
    }
   ],
   "source": [
    "newfile.count()"
   ]
  },
  {
   "cell_type": "markdown",
   "id": "9db93fe9",
   "metadata": {},
   "source": [
    "### Joining the two files "
   ]
  },
  {
   "cell_type": "code",
   "execution_count": 11,
   "id": "245ba259",
   "metadata": {},
   "outputs": [],
   "source": [
    "key=newfile.columns.values.tolist()"
   ]
  },
  {
   "cell_type": "code",
   "execution_count": 12,
   "id": "6126c39e",
   "metadata": {},
   "outputs": [],
   "source": [
    "key.remove(\"VERSION\")"
   ]
  },
  {
   "cell_type": "code",
   "execution_count": 13,
   "id": "76ef79fc",
   "metadata": {},
   "outputs": [],
   "source": [
    "joint=newfile.merge(basefile,on=key,how=\"outer\",suffixes=[\"_new\",\"_base\"])"
   ]
  },
  {
   "cell_type": "code",
   "execution_count": 117,
   "id": "8631038a",
   "metadata": {},
   "outputs": [],
   "source": [
    "def getJoinMeta(row):\n",
    "    val = \"NONE\"\n",
    "    if (row[\"VERSION_new\"] == \"NEW\") & (row [\"VERSION_base\"] == \"BASE\"):\n",
    "        val = \"COMMON\"\n",
    "    elif row[\"VERSION_new\"] == \"NEW\":\n",
    "        val = \"NEW\"\n",
    "    else: \n",
    "        val = \"BASE\" \n",
    "    return val"
   ]
  },
  {
   "cell_type": "code",
   "execution_count": 123,
   "id": "996c228f",
   "metadata": {},
   "outputs": [
    {
     "data": {
      "text/html": [
       "<div>\n",
       "<style scoped>\n",
       "    .dataframe tbody tr th:only-of-type {\n",
       "        vertical-align: middle;\n",
       "    }\n",
       "\n",
       "    .dataframe tbody tr th {\n",
       "        vertical-align: top;\n",
       "    }\n",
       "\n",
       "    .dataframe thead th {\n",
       "        text-align: right;\n",
       "    }\n",
       "</style>\n",
       "<table border=\"1\" class=\"dataframe\">\n",
       "  <thead>\n",
       "    <tr style=\"text-align: right;\">\n",
       "      <th></th>\n",
       "      <th>Measure_ID</th>\n",
       "      <th>DATA_ELEMENT_NAME</th>\n",
       "      <th>CODING_SYSTEM</th>\n",
       "      <th>CODE</th>\n",
       "      <th>MODIFIER</th>\n",
       "      <th>PLACE_OF_SERVICE</th>\n",
       "      <th>AGE</th>\n",
       "      <th>GENDER</th>\n",
       "      <th>CONST</th>\n",
       "      <th>VERSION</th>\n",
       "    </tr>\n",
       "  </thead>\n",
       "  <tbody>\n",
       "    <tr>\n",
       "      <th>0</th>\n",
       "      <td>1</td>\n",
       "      <td>ENCOUNTER_CODE</td>\n",
       "      <td>C4</td>\n",
       "      <td>99202</td>\n",
       "      <td>NaN</td>\n",
       "      <td>NaN</td>\n",
       "      <td>18 - 75</td>\n",
       "      <td>M, F</td>\n",
       "      <td>CONST</td>\n",
       "      <td>COMMON</td>\n",
       "    </tr>\n",
       "    <tr>\n",
       "      <th>1</th>\n",
       "      <td>1</td>\n",
       "      <td>ENCOUNTER_CODE</td>\n",
       "      <td>C4</td>\n",
       "      <td>99203</td>\n",
       "      <td>NaN</td>\n",
       "      <td>NaN</td>\n",
       "      <td>18 - 75</td>\n",
       "      <td>M, F</td>\n",
       "      <td>CONST</td>\n",
       "      <td>COMMON</td>\n",
       "    </tr>\n",
       "    <tr>\n",
       "      <th>2</th>\n",
       "      <td>1</td>\n",
       "      <td>ENCOUNTER_CODE</td>\n",
       "      <td>C4</td>\n",
       "      <td>99204</td>\n",
       "      <td>NaN</td>\n",
       "      <td>NaN</td>\n",
       "      <td>18 - 75</td>\n",
       "      <td>M, F</td>\n",
       "      <td>CONST</td>\n",
       "      <td>COMMON</td>\n",
       "    </tr>\n",
       "    <tr>\n",
       "      <th>3</th>\n",
       "      <td>1</td>\n",
       "      <td>ENCOUNTER_CODE</td>\n",
       "      <td>C4</td>\n",
       "      <td>99205</td>\n",
       "      <td>NaN</td>\n",
       "      <td>NaN</td>\n",
       "      <td>18 - 75</td>\n",
       "      <td>M, F</td>\n",
       "      <td>CONST</td>\n",
       "      <td>COMMON</td>\n",
       "    </tr>\n",
       "    <tr>\n",
       "      <th>4</th>\n",
       "      <td>1</td>\n",
       "      <td>ENCOUNTER_CODE</td>\n",
       "      <td>C4</td>\n",
       "      <td>99212</td>\n",
       "      <td>NaN</td>\n",
       "      <td>NaN</td>\n",
       "      <td>18 - 75</td>\n",
       "      <td>M, F</td>\n",
       "      <td>CONST</td>\n",
       "      <td>COMMON</td>\n",
       "    </tr>\n",
       "    <tr>\n",
       "      <th>...</th>\n",
       "      <td>...</td>\n",
       "      <td>...</td>\n",
       "      <td>...</td>\n",
       "      <td>...</td>\n",
       "      <td>...</td>\n",
       "      <td>...</td>\n",
       "      <td>...</td>\n",
       "      <td>...</td>\n",
       "      <td>...</td>\n",
       "      <td>...</td>\n",
       "    </tr>\n",
       "    <tr>\n",
       "      <th>25968</th>\n",
       "      <td>437</td>\n",
       "      <td>G_CODE_PD</td>\n",
       "      <td>HCPCS</td>\n",
       "      <td>G9641</td>\n",
       "      <td>NaN</td>\n",
       "      <td>NaN</td>\n",
       "      <td>≥0</td>\n",
       "      <td>M, F</td>\n",
       "      <td>CONST</td>\n",
       "      <td>BASE</td>\n",
       "    </tr>\n",
       "    <tr>\n",
       "      <th>25969</th>\n",
       "      <td>437</td>\n",
       "      <td>G_CODE_PN</td>\n",
       "      <td>HCPCS</td>\n",
       "      <td>G9641</td>\n",
       "      <td>NaN</td>\n",
       "      <td>NaN</td>\n",
       "      <td>≥0</td>\n",
       "      <td>M, F</td>\n",
       "      <td>CONST</td>\n",
       "      <td>BASE</td>\n",
       "    </tr>\n",
       "    <tr>\n",
       "      <th>25970</th>\n",
       "      <td>437</td>\n",
       "      <td>G_CODE_PD_Exl</td>\n",
       "      <td>HCPCS</td>\n",
       "      <td>G9640</td>\n",
       "      <td>NaN</td>\n",
       "      <td>NaN</td>\n",
       "      <td>≥0</td>\n",
       "      <td>M, F</td>\n",
       "      <td>CONST</td>\n",
       "      <td>BASE</td>\n",
       "    </tr>\n",
       "    <tr>\n",
       "      <th>25971</th>\n",
       "      <td>437</td>\n",
       "      <td>G_CODE_PD</td>\n",
       "      <td>HCPCS</td>\n",
       "      <td>G9639</td>\n",
       "      <td>NaN</td>\n",
       "      <td>NaN</td>\n",
       "      <td>≥0</td>\n",
       "      <td>M, F</td>\n",
       "      <td>CONST</td>\n",
       "      <td>BASE</td>\n",
       "    </tr>\n",
       "    <tr>\n",
       "      <th>25972</th>\n",
       "      <td>437</td>\n",
       "      <td>G_CODE_PN_X</td>\n",
       "      <td>HCPCS</td>\n",
       "      <td>G9639</td>\n",
       "      <td>NaN</td>\n",
       "      <td>NaN</td>\n",
       "      <td>≥0</td>\n",
       "      <td>M, F</td>\n",
       "      <td>CONST</td>\n",
       "      <td>BASE</td>\n",
       "    </tr>\n",
       "  </tbody>\n",
       "</table>\n",
       "<p>25973 rows × 10 columns</p>\n",
       "</div>"
      ],
      "text/plain": [
       "      Measure_ID DATA_ELEMENT_NAME CODING_SYSTEM   CODE MODIFIER  \\\n",
       "0              1    ENCOUNTER_CODE            C4  99202      NaN   \n",
       "1              1    ENCOUNTER_CODE            C4  99203      NaN   \n",
       "2              1    ENCOUNTER_CODE            C4  99204      NaN   \n",
       "3              1    ENCOUNTER_CODE            C4  99205      NaN   \n",
       "4              1    ENCOUNTER_CODE            C4  99212      NaN   \n",
       "...          ...               ...           ...    ...      ...   \n",
       "25968        437         G_CODE_PD         HCPCS  G9641      NaN   \n",
       "25969        437         G_CODE_PN         HCPCS  G9641      NaN   \n",
       "25970        437     G_CODE_PD_Exl         HCPCS  G9640      NaN   \n",
       "25971        437         G_CODE_PD         HCPCS  G9639      NaN   \n",
       "25972        437       G_CODE_PN_X         HCPCS  G9639      NaN   \n",
       "\n",
       "      PLACE_OF_SERVICE      AGE GENDER  CONST VERSION  \n",
       "0                  NaN  18 - 75   M, F  CONST  COMMON  \n",
       "1                  NaN  18 - 75   M, F  CONST  COMMON  \n",
       "2                  NaN  18 - 75   M, F  CONST  COMMON  \n",
       "3                  NaN  18 - 75   M, F  CONST  COMMON  \n",
       "4                  NaN  18 - 75   M, F  CONST  COMMON  \n",
       "...                ...      ...    ...    ...     ...  \n",
       "25968              NaN       ≥0   M, F  CONST    BASE  \n",
       "25969              NaN       ≥0   M, F  CONST    BASE  \n",
       "25970              NaN       ≥0   M, F  CONST    BASE  \n",
       "25971              NaN       ≥0   M, F  CONST    BASE  \n",
       "25972              NaN       ≥0   M, F  CONST    BASE  \n",
       "\n",
       "[25973 rows x 10 columns]"
      ]
     },
     "execution_count": 123,
     "metadata": {},
     "output_type": "execute_result"
    }
   ],
   "source": [
    "joint[\"VERSION\"]= joint.apply(getJoinMeta,axis=1)\n",
    "joint=joint.drop([\"VERSION_new\",\"VERSION_base\"],axis=1)"
   ]
  },
  {
   "cell_type": "code",
   "execution_count": 124,
   "id": "1bb27677",
   "metadata": {},
   "outputs": [
    {
     "data": {
      "text/html": [
       "<div>\n",
       "<style scoped>\n",
       "    .dataframe tbody tr th:only-of-type {\n",
       "        vertical-align: middle;\n",
       "    }\n",
       "\n",
       "    .dataframe tbody tr th {\n",
       "        vertical-align: top;\n",
       "    }\n",
       "\n",
       "    .dataframe thead th {\n",
       "        text-align: right;\n",
       "    }\n",
       "</style>\n",
       "<table border=\"1\" class=\"dataframe\">\n",
       "  <thead>\n",
       "    <tr style=\"text-align: right;\">\n",
       "      <th></th>\n",
       "      <th>Measure_ID</th>\n",
       "      <th>DATA_ELEMENT_NAME</th>\n",
       "      <th>CODING_SYSTEM</th>\n",
       "      <th>CODE</th>\n",
       "      <th>MODIFIER</th>\n",
       "      <th>PLACE_OF_SERVICE</th>\n",
       "      <th>AGE</th>\n",
       "      <th>GENDER</th>\n",
       "      <th>VERSION_new</th>\n",
       "      <th>CONST</th>\n",
       "      <th>VERSION_base</th>\n",
       "      <th>VERSION</th>\n",
       "    </tr>\n",
       "  </thead>\n",
       "  <tbody>\n",
       "  </tbody>\n",
       "</table>\n",
       "</div>"
      ],
      "text/plain": [
       "Empty DataFrame\n",
       "Columns: [Measure_ID, DATA_ELEMENT_NAME, CODING_SYSTEM, CODE, MODIFIER, PLACE_OF_SERVICE, AGE, GENDER, VERSION_new, CONST, VERSION_base, VERSION]\n",
       "Index: []"
      ]
     },
     "execution_count": 124,
     "metadata": {},
     "output_type": "execute_result"
    }
   ],
   "source": [
    "joint[joint.VERSION==\"NONE\"]"
   ]
  },
  {
   "cell_type": "code",
   "execution_count": 119,
   "id": "e883e026",
   "metadata": {},
   "outputs": [
    {
     "data": {
      "text/html": [
       "<div>\n",
       "<style scoped>\n",
       "    .dataframe tbody tr th:only-of-type {\n",
       "        vertical-align: middle;\n",
       "    }\n",
       "\n",
       "    .dataframe tbody tr th {\n",
       "        vertical-align: top;\n",
       "    }\n",
       "\n",
       "    .dataframe thead th {\n",
       "        text-align: right;\n",
       "    }\n",
       "</style>\n",
       "<table border=\"1\" class=\"dataframe\">\n",
       "  <thead>\n",
       "    <tr style=\"text-align: right;\">\n",
       "      <th></th>\n",
       "      <th>Measure_ID</th>\n",
       "      <th>DATA_ELEMENT_NAME</th>\n",
       "      <th>CODING_SYSTEM</th>\n",
       "      <th>CODE</th>\n",
       "      <th>MODIFIER</th>\n",
       "      <th>PLACE_OF_SERVICE</th>\n",
       "      <th>AGE</th>\n",
       "      <th>GENDER</th>\n",
       "      <th>VERSION_new</th>\n",
       "      <th>CONST</th>\n",
       "      <th>VERSION_base</th>\n",
       "      <th>VERSION</th>\n",
       "    </tr>\n",
       "  </thead>\n",
       "  <tbody>\n",
       "    <tr>\n",
       "      <th>0</th>\n",
       "      <td>1</td>\n",
       "      <td>ENCOUNTER_CODE</td>\n",
       "      <td>C4</td>\n",
       "      <td>99202</td>\n",
       "      <td>NaN</td>\n",
       "      <td>NaN</td>\n",
       "      <td>18 - 75</td>\n",
       "      <td>M, F</td>\n",
       "      <td>NEW</td>\n",
       "      <td>CONST</td>\n",
       "      <td>BASE</td>\n",
       "      <td>COMMON</td>\n",
       "    </tr>\n",
       "    <tr>\n",
       "      <th>1</th>\n",
       "      <td>1</td>\n",
       "      <td>ENCOUNTER_CODE</td>\n",
       "      <td>C4</td>\n",
       "      <td>99203</td>\n",
       "      <td>NaN</td>\n",
       "      <td>NaN</td>\n",
       "      <td>18 - 75</td>\n",
       "      <td>M, F</td>\n",
       "      <td>NEW</td>\n",
       "      <td>CONST</td>\n",
       "      <td>BASE</td>\n",
       "      <td>COMMON</td>\n",
       "    </tr>\n",
       "    <tr>\n",
       "      <th>2</th>\n",
       "      <td>1</td>\n",
       "      <td>ENCOUNTER_CODE</td>\n",
       "      <td>C4</td>\n",
       "      <td>99204</td>\n",
       "      <td>NaN</td>\n",
       "      <td>NaN</td>\n",
       "      <td>18 - 75</td>\n",
       "      <td>M, F</td>\n",
       "      <td>NEW</td>\n",
       "      <td>CONST</td>\n",
       "      <td>BASE</td>\n",
       "      <td>COMMON</td>\n",
       "    </tr>\n",
       "    <tr>\n",
       "      <th>3</th>\n",
       "      <td>1</td>\n",
       "      <td>ENCOUNTER_CODE</td>\n",
       "      <td>C4</td>\n",
       "      <td>99205</td>\n",
       "      <td>NaN</td>\n",
       "      <td>NaN</td>\n",
       "      <td>18 - 75</td>\n",
       "      <td>M, F</td>\n",
       "      <td>NEW</td>\n",
       "      <td>CONST</td>\n",
       "      <td>BASE</td>\n",
       "      <td>COMMON</td>\n",
       "    </tr>\n",
       "    <tr>\n",
       "      <th>4</th>\n",
       "      <td>1</td>\n",
       "      <td>ENCOUNTER_CODE</td>\n",
       "      <td>C4</td>\n",
       "      <td>99212</td>\n",
       "      <td>NaN</td>\n",
       "      <td>NaN</td>\n",
       "      <td>18 - 75</td>\n",
       "      <td>M, F</td>\n",
       "      <td>NEW</td>\n",
       "      <td>CONST</td>\n",
       "      <td>BASE</td>\n",
       "      <td>COMMON</td>\n",
       "    </tr>\n",
       "    <tr>\n",
       "      <th>...</th>\n",
       "      <td>...</td>\n",
       "      <td>...</td>\n",
       "      <td>...</td>\n",
       "      <td>...</td>\n",
       "      <td>...</td>\n",
       "      <td>...</td>\n",
       "      <td>...</td>\n",
       "      <td>...</td>\n",
       "      <td>...</td>\n",
       "      <td>...</td>\n",
       "      <td>...</td>\n",
       "      <td>...</td>\n",
       "    </tr>\n",
       "    <tr>\n",
       "      <th>25968</th>\n",
       "      <td>437</td>\n",
       "      <td>G_CODE_PD</td>\n",
       "      <td>HCPCS</td>\n",
       "      <td>G9641</td>\n",
       "      <td>NaN</td>\n",
       "      <td>NaN</td>\n",
       "      <td>≥0</td>\n",
       "      <td>M, F</td>\n",
       "      <td>NaN</td>\n",
       "      <td>CONST</td>\n",
       "      <td>BASE</td>\n",
       "      <td>BASE</td>\n",
       "    </tr>\n",
       "    <tr>\n",
       "      <th>25969</th>\n",
       "      <td>437</td>\n",
       "      <td>G_CODE_PN</td>\n",
       "      <td>HCPCS</td>\n",
       "      <td>G9641</td>\n",
       "      <td>NaN</td>\n",
       "      <td>NaN</td>\n",
       "      <td>≥0</td>\n",
       "      <td>M, F</td>\n",
       "      <td>NaN</td>\n",
       "      <td>CONST</td>\n",
       "      <td>BASE</td>\n",
       "      <td>BASE</td>\n",
       "    </tr>\n",
       "    <tr>\n",
       "      <th>25970</th>\n",
       "      <td>437</td>\n",
       "      <td>G_CODE_PD_Exl</td>\n",
       "      <td>HCPCS</td>\n",
       "      <td>G9640</td>\n",
       "      <td>NaN</td>\n",
       "      <td>NaN</td>\n",
       "      <td>≥0</td>\n",
       "      <td>M, F</td>\n",
       "      <td>NaN</td>\n",
       "      <td>CONST</td>\n",
       "      <td>BASE</td>\n",
       "      <td>BASE</td>\n",
       "    </tr>\n",
       "    <tr>\n",
       "      <th>25971</th>\n",
       "      <td>437</td>\n",
       "      <td>G_CODE_PD</td>\n",
       "      <td>HCPCS</td>\n",
       "      <td>G9639</td>\n",
       "      <td>NaN</td>\n",
       "      <td>NaN</td>\n",
       "      <td>≥0</td>\n",
       "      <td>M, F</td>\n",
       "      <td>NaN</td>\n",
       "      <td>CONST</td>\n",
       "      <td>BASE</td>\n",
       "      <td>BASE</td>\n",
       "    </tr>\n",
       "    <tr>\n",
       "      <th>25972</th>\n",
       "      <td>437</td>\n",
       "      <td>G_CODE_PN_X</td>\n",
       "      <td>HCPCS</td>\n",
       "      <td>G9639</td>\n",
       "      <td>NaN</td>\n",
       "      <td>NaN</td>\n",
       "      <td>≥0</td>\n",
       "      <td>M, F</td>\n",
       "      <td>NaN</td>\n",
       "      <td>CONST</td>\n",
       "      <td>BASE</td>\n",
       "      <td>BASE</td>\n",
       "    </tr>\n",
       "  </tbody>\n",
       "</table>\n",
       "<p>25973 rows × 12 columns</p>\n",
       "</div>"
      ],
      "text/plain": [
       "      Measure_ID DATA_ELEMENT_NAME CODING_SYSTEM   CODE MODIFIER  \\\n",
       "0              1    ENCOUNTER_CODE            C4  99202      NaN   \n",
       "1              1    ENCOUNTER_CODE            C4  99203      NaN   \n",
       "2              1    ENCOUNTER_CODE            C4  99204      NaN   \n",
       "3              1    ENCOUNTER_CODE            C4  99205      NaN   \n",
       "4              1    ENCOUNTER_CODE            C4  99212      NaN   \n",
       "...          ...               ...           ...    ...      ...   \n",
       "25968        437         G_CODE_PD         HCPCS  G9641      NaN   \n",
       "25969        437         G_CODE_PN         HCPCS  G9641      NaN   \n",
       "25970        437     G_CODE_PD_Exl         HCPCS  G9640      NaN   \n",
       "25971        437         G_CODE_PD         HCPCS  G9639      NaN   \n",
       "25972        437       G_CODE_PN_X         HCPCS  G9639      NaN   \n",
       "\n",
       "      PLACE_OF_SERVICE      AGE GENDER VERSION_new  CONST VERSION_base VERSION  \n",
       "0                  NaN  18 - 75   M, F         NEW  CONST         BASE  COMMON  \n",
       "1                  NaN  18 - 75   M, F         NEW  CONST         BASE  COMMON  \n",
       "2                  NaN  18 - 75   M, F         NEW  CONST         BASE  COMMON  \n",
       "3                  NaN  18 - 75   M, F         NEW  CONST         BASE  COMMON  \n",
       "4                  NaN  18 - 75   M, F         NEW  CONST         BASE  COMMON  \n",
       "...                ...      ...    ...         ...    ...          ...     ...  \n",
       "25968              NaN       ≥0   M, F         NaN  CONST         BASE    BASE  \n",
       "25969              NaN       ≥0   M, F         NaN  CONST         BASE    BASE  \n",
       "25970              NaN       ≥0   M, F         NaN  CONST         BASE    BASE  \n",
       "25971              NaN       ≥0   M, F         NaN  CONST         BASE    BASE  \n",
       "25972              NaN       ≥0   M, F         NaN  CONST         BASE    BASE  \n",
       "\n",
       "[25973 rows x 12 columns]"
      ]
     },
     "execution_count": 119,
     "metadata": {},
     "output_type": "execute_result"
    }
   ],
   "source": [
    "joint"
   ]
  },
  {
   "cell_type": "code",
   "execution_count": 126,
   "id": "367119d9",
   "metadata": {},
   "outputs": [
    {
     "data": {
      "text/plain": [
       "4560"
      ]
     },
     "execution_count": 126,
     "metadata": {},
     "output_type": "execute_result"
    }
   ],
   "source": [
    "onlybase=joint[joint.VERSION==\"BASE\"]\n",
    "len(onlybase)"
   ]
  },
  {
   "cell_type": "code",
   "execution_count": 127,
   "id": "b08e401d",
   "metadata": {},
   "outputs": [
    {
     "data": {
      "text/plain": [
       "6513"
      ]
     },
     "execution_count": 127,
     "metadata": {},
     "output_type": "execute_result"
    }
   ],
   "source": [
    "onlynew=joint[joint.VERSION==\"NEW\"]\n",
    "len(onlynew)"
   ]
  },
  {
   "cell_type": "code",
   "execution_count": 128,
   "id": "551925f2",
   "metadata": {},
   "outputs": [],
   "source": [
    "intersection=joint[joint.VERSION==\"COMMON\"]"
   ]
  },
  {
   "cell_type": "code",
   "execution_count": 129,
   "id": "b2247bc7",
   "metadata": {},
   "outputs": [
    {
     "data": {
      "text/plain": [
       "14900"
      ]
     },
     "execution_count": 129,
     "metadata": {},
     "output_type": "execute_result"
    }
   ],
   "source": [
    "len(intersection)"
   ]
  },
  {
   "cell_type": "markdown",
   "id": "a4a28283",
   "metadata": {},
   "source": [
    "# New against Base comparison"
   ]
  },
  {
   "cell_type": "markdown",
   "id": "4aff4be4",
   "metadata": {},
   "source": [
    "## Defining functions"
   ]
  },
  {
   "cell_type": "code",
   "execution_count": 131,
   "id": "faa2556d",
   "metadata": {},
   "outputs": [],
   "source": [
    "def columnToSet(df,column:str):\n",
    "    return set(df[column].unique().tolist())"
   ]
  },
  {
   "cell_type": "code",
   "execution_count": 132,
   "id": "e3d29d3c",
   "metadata": {},
   "outputs": [],
   "source": [
    "def analyze_difference(joint,partid,partcolumn,subcol):\n",
    "    subset=joint[joint[partcolumn]==partid]\n",
    "    onlybase=subset[subset.VERSION_new.isna()]\n",
    "    onlynew=subset[subset.VERSION_base.isna()]\n",
    "    \n",
    "    onlynewids=columnToSet(onlynew,subcol)\n",
    "    onlybaseids=columnToSet(onlybase,subcol)\n",
    "    baseids=columnToSet(onlybase,subcol)\n",
    "    newids=columnToSet(onlynew,subcol)\n",
    "    \n",
    "    added=onlynewids-baseids\n",
    "    removed=onlybaseids-newids\n",
    "    changed=onlynewids|onlybaseids-added-removed\n",
    "    \n",
    "    print(\"Added\")\n",
    "    print(added)\n",
    "    print(\"Removed\")\n",
    "    print(removed)\n",
    "    print(\"Changed\")\n",
    "    print(changed)\n",
    "    \n",
    "    return (subset,added|removed|changed) \n",
    "    "
   ]
  },
  {
   "cell_type": "code",
   "execution_count": 136,
   "id": "68dfedf7",
   "metadata": {},
   "outputs": [
    {
     "name": "stdout",
     "output_type": "stream",
     "text": [
      "Added\n",
      "set()\n",
      "Removed\n",
      "{'99201'}\n",
      "Changed\n",
      "{'99308', '99204', '99334', '99325', '99348', '99336', '99309', '99214', '99202', '99343', '4131F', '99284', '99205', '99213', '99212', '99305', '99341', '99281', '99347', '4132F', '99215', '99335', '99350', '99328', '99285', '99310', '99326', '99306', '99307', '99283', '99324', '99203', '99304', '99282', '99342', '99344', '99349', '99345', '99327'}\n"
     ]
    }
   ],
   "source": [
    "(df,changed)=analyze_difference(joint,\"93\",\"Measure_ID\",\"CODE\")"
   ]
  },
  {
   "cell_type": "markdown",
   "id": "f70295c1",
   "metadata": {},
   "source": [
    "### Iterative process"
   ]
  },
  {
   "cell_type": "code",
   "execution_count": 137,
   "id": "f3ee7522",
   "metadata": {},
   "outputs": [
    {
     "name": "stdout",
     "output_type": "stream",
     "text": [
      "Added\n",
      "{'436'}\n",
      "Removed\n",
      "{'14', '416', '21', '12', '146', '435', '52', '317', '48', '419', '422', '437', '268'}\n",
      "Changed\n",
      "{'326', '418.01', '226.02', '155', '195', '261', '436', '50', '110', '112', '226', '134', '405', '254', '117', '147', '236', '24', '249', '128', '395', '1', '182', '93', '141', '154', '320', '425', '47', '24.01', '145', '39', '113', '225', '250', '406', '76', '130', '226.01', '111', '181', '23', '418'}\n"
     ]
    }
   ],
   "source": [
    "(df,changed)=analyze_difference(joint,\"CONST\",\"CONST\",\"Measure_ID\")"
   ]
  },
  {
   "cell_type": "code",
   "execution_count": 138,
   "id": "f543dede",
   "metadata": {},
   "outputs": [
    {
     "name": "stdout",
     "output_type": "stream",
     "text": [
      "Added\n",
      "set()\n",
      "Removed\n",
      "set()\n",
      "Changed\n",
      "{'CPT_II_PD_Exe', 'CPT_II_PN', 'CPT_II_PN_X', 'ENCOUNTER_CODE', 'CPT_II_PD'}\n"
     ]
    }
   ],
   "source": [
    "(dfL1,changed)=analyze_difference(df,\"93\",\"Measure_ID\",\"DATA_ELEMENT_NAME\")"
   ]
  },
  {
   "cell_type": "code",
   "execution_count": 139,
   "id": "5cbf39f9",
   "metadata": {},
   "outputs": [
    {
     "name": "stdout",
     "output_type": "stream",
     "text": [
      "Added\n",
      "set()\n",
      "Removed\n",
      "set()\n",
      "Changed\n",
      "{'4131F'}\n"
     ]
    }
   ],
   "source": [
    "(dfL2,changed)=analyze_difference(dfL1,\"CPT_II_PD_Exe\",\"DATA_ELEMENT_NAME\",\"CODE\")"
   ]
  },
  {
   "cell_type": "code",
   "execution_count": 140,
   "id": "44129a84",
   "metadata": {},
   "outputs": [
    {
     "data": {
      "text/html": [
       "<div>\n",
       "<style scoped>\n",
       "    .dataframe tbody tr th:only-of-type {\n",
       "        vertical-align: middle;\n",
       "    }\n",
       "\n",
       "    .dataframe tbody tr th {\n",
       "        vertical-align: top;\n",
       "    }\n",
       "\n",
       "    .dataframe thead th {\n",
       "        text-align: right;\n",
       "    }\n",
       "</style>\n",
       "<table border=\"1\" class=\"dataframe\">\n",
       "  <thead>\n",
       "    <tr style=\"text-align: right;\">\n",
       "      <th></th>\n",
       "      <th>Measure_ID</th>\n",
       "      <th>DATA_ELEMENT_NAME</th>\n",
       "      <th>CODING_SYSTEM</th>\n",
       "      <th>CODE</th>\n",
       "      <th>MODIFIER</th>\n",
       "      <th>PLACE_OF_SERVICE</th>\n",
       "      <th>AGE</th>\n",
       "      <th>GENDER</th>\n",
       "      <th>VERSION_new</th>\n",
       "      <th>CONST</th>\n",
       "      <th>VERSION_base</th>\n",
       "      <th>VERSION</th>\n",
       "    </tr>\n",
       "  </thead>\n",
       "  <tbody>\n",
       "    <tr>\n",
       "      <th>9983</th>\n",
       "      <td>93</td>\n",
       "      <td>CPT_II_PD_Exe</td>\n",
       "      <td>CPT_II</td>\n",
       "      <td>4131F</td>\n",
       "      <td>1P</td>\n",
       "      <td>NaN</td>\n",
       "      <td>≥2</td>\n",
       "      <td>M, F</td>\n",
       "      <td>NEW</td>\n",
       "      <td>CONST</td>\n",
       "      <td>NaN</td>\n",
       "      <td>NEW</td>\n",
       "    </tr>\n",
       "    <tr>\n",
       "      <th>23101</th>\n",
       "      <td>93</td>\n",
       "      <td>CPT_II_PD_Exe</td>\n",
       "      <td>CPT_II</td>\n",
       "      <td>4131F</td>\n",
       "      <td>1P, ≠ 2P, 3P, 8P</td>\n",
       "      <td>NaN</td>\n",
       "      <td>≥2</td>\n",
       "      <td>M, F</td>\n",
       "      <td>NaN</td>\n",
       "      <td>CONST</td>\n",
       "      <td>BASE</td>\n",
       "      <td>BASE</td>\n",
       "    </tr>\n",
       "  </tbody>\n",
       "</table>\n",
       "</div>"
      ],
      "text/plain": [
       "      Measure_ID DATA_ELEMENT_NAME CODING_SYSTEM   CODE          MODIFIER  \\\n",
       "9983          93     CPT_II_PD_Exe        CPT_II  4131F                1P   \n",
       "23101         93     CPT_II_PD_Exe        CPT_II  4131F  1P, ≠ 2P, 3P, 8P   \n",
       "\n",
       "      PLACE_OF_SERVICE AGE GENDER VERSION_new  CONST VERSION_base VERSION  \n",
       "9983               NaN  ≥2   M, F         NEW  CONST          NaN     NEW  \n",
       "23101              NaN  ≥2   M, F         NaN  CONST         BASE    BASE  "
      ]
     },
     "execution_count": 140,
     "metadata": {},
     "output_type": "execute_result"
    }
   ],
   "source": [
    "dfL2[dfL2.CODE==\"4131F\"]"
   ]
  },
  {
   "cell_type": "code",
   "execution_count": null,
   "id": "75cd3e6b",
   "metadata": {},
   "outputs": [],
   "source": []
  }
 ],
 "metadata": {
  "kernelspec": {
   "display_name": "Python 3 (ipykernel)",
   "language": "python",
   "name": "python3"
  },
  "language_info": {
   "codemirror_mode": {
    "name": "ipython",
    "version": 3
   },
   "file_extension": ".py",
   "mimetype": "text/x-python",
   "name": "python",
   "nbconvert_exporter": "python",
   "pygments_lexer": "ipython3",
   "version": "3.8.13"
  }
 },
 "nbformat": 4,
 "nbformat_minor": 5
}
