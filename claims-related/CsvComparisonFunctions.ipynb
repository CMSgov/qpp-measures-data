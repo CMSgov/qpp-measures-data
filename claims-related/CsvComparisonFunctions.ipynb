{
 "cells": [
  {
   "cell_type": "code",
   "execution_count": 11,
   "id": "ac6205fa",
   "metadata": {
    "pycharm": {
     "name": "#%%\n"
    }
   },
   "outputs": [],
   "source": [
    "import pandas as pd \n",
    "import numpy as np"
   ]
  },
  {
   "cell_type": "code",
   "execution_count": 12,
   "id": "a9aaab62",
   "metadata": {
    "pycharm": {
     "name": "#%%\n"
    }
   },
   "outputs": [],
   "source": [
    "basefile = pd.read_csv(\"data/2020_Claims_SingleSource_v1.4.csv\",dtype=str)\n",
    "newfile = pd.read_csv(\"data/2021_Claims_SingleSource_v1.3.csv\",dtype=str)\n",
    "\n",
    "basefile.columns = basefile.columns.str.replace(' ', '_')\n",
    "newfile.columns = newfile.columns.str.replace(' ', '_')\n",
    "# Version to capture \n",
    "basefile[\"VERSION\"] = \"BASE\"\n",
    "newfile[\"VERSION\"] = \"NEW\"\n",
    "# Const to capture the whole file\n",
    "basefile[\"CONST\"]=\"CONST\"\n",
    "newfile[\"CONST\"]=\"CONST\""
   ]
  },
  {
   "cell_type": "markdown",
   "id": "b0714368",
   "metadata": {
    "pycharm": {
     "name": "#%% md\n"
    }
   },
   "source": [
    "### Count comparison"
   ]
  },
  {
   "cell_type": "code",
   "execution_count": 13,
   "id": "0f17a287",
   "metadata": {
    "pycharm": {
     "name": "#%%\n"
    }
   },
   "outputs": [
    {
     "data": {
      "text/plain": "Measure_ID           19434\nDATA_ELEMENT_NAME    19434\nCODING_SYSTEM        19434\nCODE                 19434\nMODIFIER               883\nPLACE_OF_SERVICE       724\nAGE                  19434\nGENDER               19434\nVERSION              19434\nCONST                19434\ndtype: int64"
     },
     "execution_count": 13,
     "metadata": {},
     "output_type": "execute_result"
    }
   ],
   "source": [
    "basefile.count()"
   ]
  },
  {
   "cell_type": "code",
   "execution_count": 14,
   "id": "74ffdb7e",
   "metadata": {
    "pycharm": {
     "name": "#%%\n"
    }
   },
   "outputs": [
    {
     "data": {
      "text/plain": "Measure_ID           21380\nDATA_ELEMENT_NAME    21380\nCODING_SYSTEM        21380\nCODE                 21380\nMODIFIER               370\nPLACE_OF_SERVICE       355\nAGE                  21380\nGENDER               21380\nVERSION              21380\nCONST                21380\ndtype: int64"
     },
     "execution_count": 14,
     "metadata": {},
     "output_type": "execute_result"
    }
   ],
   "source": [
    "newfile.count()"
   ]
  },
  {
   "cell_type": "markdown",
   "id": "9db93fe9",
   "metadata": {
    "pycharm": {
     "name": "#%% md\n"
    }
   },
   "source": [
    "### Joining the two files "
   ]
  },
  {
   "cell_type": "code",
   "execution_count": 15,
   "id": "245ba259",
   "metadata": {
    "pycharm": {
     "name": "#%%\n"
    }
   },
   "outputs": [],
   "source": [
    "key=newfile.columns.values.tolist()"
   ]
  },
  {
   "cell_type": "code",
   "execution_count": 16,
   "id": "6126c39e",
   "metadata": {
    "pycharm": {
     "name": "#%%\n"
    }
   },
   "outputs": [],
   "source": [
    "key.remove(\"VERSION\")"
   ]
  },
  {
   "cell_type": "code",
   "execution_count": 17,
   "id": "76ef79fc",
   "metadata": {
    "pycharm": {
     "name": "#%%\n"
    }
   },
   "outputs": [],
   "source": [
    "joint=newfile.merge(basefile,on=key,how=\"outer\",suffixes=[\"_new\",\"_base\"])"
   ]
  },
  {
   "cell_type": "code",
   "execution_count": 18,
   "id": "8631038a",
   "metadata": {
    "pycharm": {
     "name": "#%%\n"
    }
   },
   "outputs": [],
   "source": [
    "def getJoinMeta(row):\n",
    "    val = \"NONE\"\n",
    "    if (row[\"VERSION_new\"] == \"NEW\") & (row [\"VERSION_base\"] == \"BASE\"):\n",
    "        val = \"COMMON\"\n",
    "    elif row[\"VERSION_new\"] == \"NEW\":\n",
    "        val = \"NEW\"\n",
    "    else: \n",
    "        val = \"BASE\" \n",
    "    return val"
   ]
  },
  {
   "cell_type": "code",
   "execution_count": 19,
   "id": "996c228f",
   "metadata": {
    "pycharm": {
     "name": "#%%\n"
    }
   },
   "outputs": [],
   "source": [
    "joint[\"VERSION\"]= joint.apply(getJoinMeta,axis=1)\n",
    "joint=joint.drop([\"VERSION_new\",\"VERSION_base\"],axis=1)"
   ]
  },
  {
   "cell_type": "code",
   "execution_count": 20,
   "id": "1bb27677",
   "metadata": {
    "pycharm": {
     "name": "#%%\n"
    }
   },
   "outputs": [
    {
     "data": {
      "text/plain": "Empty DataFrame\nColumns: [Measure_ID, DATA_ELEMENT_NAME, CODING_SYSTEM, CODE, MODIFIER, PLACE_OF_SERVICE, AGE, GENDER, CONST, VERSION]\nIndex: []",
      "text/html": "<div>\n<style scoped>\n    .dataframe tbody tr th:only-of-type {\n        vertical-align: middle;\n    }\n\n    .dataframe tbody tr th {\n        vertical-align: top;\n    }\n\n    .dataframe thead th {\n        text-align: right;\n    }\n</style>\n<table border=\"1\" class=\"dataframe\">\n  <thead>\n    <tr style=\"text-align: right;\">\n      <th></th>\n      <th>Measure_ID</th>\n      <th>DATA_ELEMENT_NAME</th>\n      <th>CODING_SYSTEM</th>\n      <th>CODE</th>\n      <th>MODIFIER</th>\n      <th>PLACE_OF_SERVICE</th>\n      <th>AGE</th>\n      <th>GENDER</th>\n      <th>CONST</th>\n      <th>VERSION</th>\n    </tr>\n  </thead>\n  <tbody>\n  </tbody>\n</table>\n</div>"
     },
     "execution_count": 20,
     "metadata": {},
     "output_type": "execute_result"
    }
   ],
   "source": [
    "joint[joint.VERSION==\"NONE\"]"
   ]
  },
  {
   "cell_type": "code",
   "execution_count": 21,
   "id": "e883e026",
   "metadata": {
    "pycharm": {
     "name": "#%%\n"
    }
   },
   "outputs": [
    {
     "data": {
      "text/plain": "      Measure_ID DATA_ELEMENT_NAME CODING_SYSTEM   CODE MODIFIER  \\\n0              1    ENCOUNTER_CODE            C4  99202      NaN   \n1              1    ENCOUNTER_CODE            C4  99203      NaN   \n2              1    ENCOUNTER_CODE            C4  99204      NaN   \n3              1    ENCOUNTER_CODE            C4  99205      NaN   \n4              1    ENCOUNTER_CODE            C4  99212      NaN   \n...          ...               ...           ...    ...      ...   \n25968        437         G_CODE_PD         HCPCS  G9641      NaN   \n25969        437         G_CODE_PN         HCPCS  G9641      NaN   \n25970        437     G_CODE_PD_Exl         HCPCS  G9640      NaN   \n25971        437         G_CODE_PD         HCPCS  G9639      NaN   \n25972        437       G_CODE_PN_X         HCPCS  G9639      NaN   \n\n      PLACE_OF_SERVICE      AGE GENDER  CONST VERSION  \n0                  NaN  18 - 75   M, F  CONST  COMMON  \n1                  NaN  18 - 75   M, F  CONST  COMMON  \n2                  NaN  18 - 75   M, F  CONST  COMMON  \n3                  NaN  18 - 75   M, F  CONST  COMMON  \n4                  NaN  18 - 75   M, F  CONST  COMMON  \n...                ...      ...    ...    ...     ...  \n25968              NaN       ≥0   M, F  CONST    BASE  \n25969              NaN       ≥0   M, F  CONST    BASE  \n25970              NaN       ≥0   M, F  CONST    BASE  \n25971              NaN       ≥0   M, F  CONST    BASE  \n25972              NaN       ≥0   M, F  CONST    BASE  \n\n[25973 rows x 10 columns]",
      "text/html": "<div>\n<style scoped>\n    .dataframe tbody tr th:only-of-type {\n        vertical-align: middle;\n    }\n\n    .dataframe tbody tr th {\n        vertical-align: top;\n    }\n\n    .dataframe thead th {\n        text-align: right;\n    }\n</style>\n<table border=\"1\" class=\"dataframe\">\n  <thead>\n    <tr style=\"text-align: right;\">\n      <th></th>\n      <th>Measure_ID</th>\n      <th>DATA_ELEMENT_NAME</th>\n      <th>CODING_SYSTEM</th>\n      <th>CODE</th>\n      <th>MODIFIER</th>\n      <th>PLACE_OF_SERVICE</th>\n      <th>AGE</th>\n      <th>GENDER</th>\n      <th>CONST</th>\n      <th>VERSION</th>\n    </tr>\n  </thead>\n  <tbody>\n    <tr>\n      <th>0</th>\n      <td>1</td>\n      <td>ENCOUNTER_CODE</td>\n      <td>C4</td>\n      <td>99202</td>\n      <td>NaN</td>\n      <td>NaN</td>\n      <td>18 - 75</td>\n      <td>M, F</td>\n      <td>CONST</td>\n      <td>COMMON</td>\n    </tr>\n    <tr>\n      <th>1</th>\n      <td>1</td>\n      <td>ENCOUNTER_CODE</td>\n      <td>C4</td>\n      <td>99203</td>\n      <td>NaN</td>\n      <td>NaN</td>\n      <td>18 - 75</td>\n      <td>M, F</td>\n      <td>CONST</td>\n      <td>COMMON</td>\n    </tr>\n    <tr>\n      <th>2</th>\n      <td>1</td>\n      <td>ENCOUNTER_CODE</td>\n      <td>C4</td>\n      <td>99204</td>\n      <td>NaN</td>\n      <td>NaN</td>\n      <td>18 - 75</td>\n      <td>M, F</td>\n      <td>CONST</td>\n      <td>COMMON</td>\n    </tr>\n    <tr>\n      <th>3</th>\n      <td>1</td>\n      <td>ENCOUNTER_CODE</td>\n      <td>C4</td>\n      <td>99205</td>\n      <td>NaN</td>\n      <td>NaN</td>\n      <td>18 - 75</td>\n      <td>M, F</td>\n      <td>CONST</td>\n      <td>COMMON</td>\n    </tr>\n    <tr>\n      <th>4</th>\n      <td>1</td>\n      <td>ENCOUNTER_CODE</td>\n      <td>C4</td>\n      <td>99212</td>\n      <td>NaN</td>\n      <td>NaN</td>\n      <td>18 - 75</td>\n      <td>M, F</td>\n      <td>CONST</td>\n      <td>COMMON</td>\n    </tr>\n    <tr>\n      <th>...</th>\n      <td>...</td>\n      <td>...</td>\n      <td>...</td>\n      <td>...</td>\n      <td>...</td>\n      <td>...</td>\n      <td>...</td>\n      <td>...</td>\n      <td>...</td>\n      <td>...</td>\n    </tr>\n    <tr>\n      <th>25968</th>\n      <td>437</td>\n      <td>G_CODE_PD</td>\n      <td>HCPCS</td>\n      <td>G9641</td>\n      <td>NaN</td>\n      <td>NaN</td>\n      <td>≥0</td>\n      <td>M, F</td>\n      <td>CONST</td>\n      <td>BASE</td>\n    </tr>\n    <tr>\n      <th>25969</th>\n      <td>437</td>\n      <td>G_CODE_PN</td>\n      <td>HCPCS</td>\n      <td>G9641</td>\n      <td>NaN</td>\n      <td>NaN</td>\n      <td>≥0</td>\n      <td>M, F</td>\n      <td>CONST</td>\n      <td>BASE</td>\n    </tr>\n    <tr>\n      <th>25970</th>\n      <td>437</td>\n      <td>G_CODE_PD_Exl</td>\n      <td>HCPCS</td>\n      <td>G9640</td>\n      <td>NaN</td>\n      <td>NaN</td>\n      <td>≥0</td>\n      <td>M, F</td>\n      <td>CONST</td>\n      <td>BASE</td>\n    </tr>\n    <tr>\n      <th>25971</th>\n      <td>437</td>\n      <td>G_CODE_PD</td>\n      <td>HCPCS</td>\n      <td>G9639</td>\n      <td>NaN</td>\n      <td>NaN</td>\n      <td>≥0</td>\n      <td>M, F</td>\n      <td>CONST</td>\n      <td>BASE</td>\n    </tr>\n    <tr>\n      <th>25972</th>\n      <td>437</td>\n      <td>G_CODE_PN_X</td>\n      <td>HCPCS</td>\n      <td>G9639</td>\n      <td>NaN</td>\n      <td>NaN</td>\n      <td>≥0</td>\n      <td>M, F</td>\n      <td>CONST</td>\n      <td>BASE</td>\n    </tr>\n  </tbody>\n</table>\n<p>25973 rows × 10 columns</p>\n</div>"
     },
     "execution_count": 21,
     "metadata": {},
     "output_type": "execute_result"
    }
   ],
   "source": [
    "joint"
   ]
  },
  {
   "cell_type": "code",
   "execution_count": 22,
   "id": "367119d9",
   "metadata": {
    "pycharm": {
     "name": "#%%\n"
    }
   },
   "outputs": [
    {
     "data": {
      "text/plain": "4560"
     },
     "execution_count": 22,
     "metadata": {},
     "output_type": "execute_result"
    }
   ],
   "source": [
    "onlybase=joint[joint.VERSION==\"BASE\"]\n",
    "len(onlybase)"
   ]
  },
  {
   "cell_type": "code",
   "execution_count": 23,
   "id": "b08e401d",
   "metadata": {
    "pycharm": {
     "name": "#%%\n"
    }
   },
   "outputs": [
    {
     "data": {
      "text/plain": "6513"
     },
     "execution_count": 23,
     "metadata": {},
     "output_type": "execute_result"
    }
   ],
   "source": [
    "onlynew=joint[joint.VERSION==\"NEW\"]\n",
    "len(onlynew)"
   ]
  },
  {
   "cell_type": "code",
   "execution_count": 24,
   "id": "551925f2",
   "metadata": {
    "pycharm": {
     "name": "#%%\n"
    }
   },
   "outputs": [],
   "source": [
    "intersection=joint[joint.VERSION==\"COMMON\"]"
   ]
  },
  {
   "cell_type": "code",
   "execution_count": 25,
   "id": "b2247bc7",
   "metadata": {
    "pycharm": {
     "name": "#%%\n"
    }
   },
   "outputs": [
    {
     "data": {
      "text/plain": "14900"
     },
     "execution_count": 25,
     "metadata": {},
     "output_type": "execute_result"
    }
   ],
   "source": [
    "len(intersection)"
   ]
  },
  {
   "cell_type": "markdown",
   "id": "a4a28283",
   "metadata": {
    "pycharm": {
     "name": "#%% md\n"
    }
   },
   "source": [
    "# New against Base comparison"
   ]
  },
  {
   "cell_type": "markdown",
   "id": "4aff4be4",
   "metadata": {
    "pycharm": {
     "name": "#%% md\n"
    }
   },
   "source": [
    "## Defining functions"
   ]
  },
  {
   "cell_type": "code",
   "execution_count": 26,
   "id": "faa2556d",
   "metadata": {
    "pycharm": {
     "name": "#%%\n"
    }
   },
   "outputs": [],
   "source": [
    "def columnToSet(df,column:str):\n",
    "    return set(df[column].unique().tolist())"
   ]
  },
  {
   "cell_type": "code",
   "execution_count": 27,
   "id": "e3d29d3c",
   "metadata": {
    "pycharm": {
     "name": "#%%\n"
    }
   },
   "outputs": [],
   "source": [
    "def analyze_difference(joint,partcolumn,partid,subcol,debug=False):\n",
    "    subset=joint[joint[partcolumn]==partid]\n",
    "    basedf=subset[(subset.VERSION==\"BASE\") | (subset.VERSION==\"COMMON\")]\n",
    "    newdf=subset[(subset.VERSION==\"NEW\")|(subset.VERSION==\"COMMON\")]\n",
    "    \n",
    "    newids=columnToSet(newdf,subcol)\n",
    "    baseids=columnToSet(basedf,subcol)\n",
    "    \n",
    "    added=newids-baseids\n",
    "    removed=baseids-newids\n",
    "    \n",
    "    #get all the changed IDs \n",
    "    changedids=columnToSet(subset[subset.VERSION!=\"COMMON\"],subcol)\n",
    "    \n",
    "    \n",
    "    changed=changedids-added-removed\n",
    "    \n",
    "    if debug==True:\n",
    "        print(\"Added\")\n",
    "        print(added)\n",
    "        print(\"Removed\")\n",
    "        print(removed)\n",
    "        print(\"Changed\")\n",
    "        print(changed)\n",
    "    \n",
    "    return (subset,added|removed|changed) \n",
    "    "
   ]
  },
  {
   "cell_type": "code",
   "execution_count": 28,
   "id": "68dfedf7",
   "metadata": {
    "pycharm": {
     "name": "#%%\n"
    }
   },
   "outputs": [],
   "source": [
    "(df,changed)=analyze_difference(joint,\"Measure_ID\",\"93\",\"CODE\")"
   ]
  },
  {
   "cell_type": "markdown",
   "id": "f70295c1",
   "metadata": {
    "pycharm": {
     "name": "#%% md\n"
    }
   },
   "source": [
    "### Iterative process"
   ]
  },
  {
   "cell_type": "code",
   "execution_count": 29,
   "id": "f3ee7522",
   "metadata": {
    "pycharm": {
     "name": "#%%\n"
    }
   },
   "outputs": [],
   "source": [
    "(df,changed)=analyze_difference(joint,\"CONST\",\"CONST\",\"Measure_ID\")"
   ]
  },
  {
   "cell_type": "code",
   "execution_count": 30,
   "id": "f543dede",
   "metadata": {
    "pycharm": {
     "name": "#%%\n"
    }
   },
   "outputs": [],
   "source": [
    "(dfL1,changed)=analyze_difference(df,\"Measure_ID\",\"93\",\"DATA_ELEMENT_NAME\")"
   ]
  },
  {
   "cell_type": "code",
   "execution_count": 31,
   "id": "5cbf39f9",
   "metadata": {
    "pycharm": {
     "name": "#%%\n"
    }
   },
   "outputs": [],
   "source": [
    "(dfL2,changed)=analyze_difference(dfL1,\"DATA_ELEMENT_NAME\",\"CPT_II_PD_Exe\",\"CODE\")"
   ]
  },
  {
   "cell_type": "code",
   "execution_count": 32,
   "id": "44129a84",
   "metadata": {
    "pycharm": {
     "name": "#%%\n"
    }
   },
   "outputs": [
    {
     "data": {
      "text/plain": "      Measure_ID DATA_ELEMENT_NAME CODING_SYSTEM   CODE          MODIFIER  \\\n9983          93     CPT_II_PD_Exe        CPT_II  4131F                1P   \n23101         93     CPT_II_PD_Exe        CPT_II  4131F  1P, ≠ 2P, 3P, 8P   \n\n      PLACE_OF_SERVICE AGE GENDER  CONST VERSION  \n9983               NaN  ≥2   M, F  CONST     NEW  \n23101              NaN  ≥2   M, F  CONST    BASE  ",
      "text/html": "<div>\n<style scoped>\n    .dataframe tbody tr th:only-of-type {\n        vertical-align: middle;\n    }\n\n    .dataframe tbody tr th {\n        vertical-align: top;\n    }\n\n    .dataframe thead th {\n        text-align: right;\n    }\n</style>\n<table border=\"1\" class=\"dataframe\">\n  <thead>\n    <tr style=\"text-align: right;\">\n      <th></th>\n      <th>Measure_ID</th>\n      <th>DATA_ELEMENT_NAME</th>\n      <th>CODING_SYSTEM</th>\n      <th>CODE</th>\n      <th>MODIFIER</th>\n      <th>PLACE_OF_SERVICE</th>\n      <th>AGE</th>\n      <th>GENDER</th>\n      <th>CONST</th>\n      <th>VERSION</th>\n    </tr>\n  </thead>\n  <tbody>\n    <tr>\n      <th>9983</th>\n      <td>93</td>\n      <td>CPT_II_PD_Exe</td>\n      <td>CPT_II</td>\n      <td>4131F</td>\n      <td>1P</td>\n      <td>NaN</td>\n      <td>≥2</td>\n      <td>M, F</td>\n      <td>CONST</td>\n      <td>NEW</td>\n    </tr>\n    <tr>\n      <th>23101</th>\n      <td>93</td>\n      <td>CPT_II_PD_Exe</td>\n      <td>CPT_II</td>\n      <td>4131F</td>\n      <td>1P, ≠ 2P, 3P, 8P</td>\n      <td>NaN</td>\n      <td>≥2</td>\n      <td>M, F</td>\n      <td>CONST</td>\n      <td>BASE</td>\n    </tr>\n  </tbody>\n</table>\n</div>"
     },
     "execution_count": 32,
     "metadata": {},
     "output_type": "execute_result"
    }
   ],
   "source": [
    "dfL2[dfL2.CODE==\"4131F\"]"
   ]
  },
  {
   "cell_type": "code",
   "execution_count": 33,
   "outputs": [],
   "source": [
    "### Recursion"
   ],
   "metadata": {
    "collapsed": false,
    "pycharm": {
     "name": "#%%\n"
    }
   }
  },
  {
   "cell_type": "code",
   "execution_count": 34,
   "id": "25ae9035",
   "metadata": {
    "pycharm": {
     "name": "#%%\n"
    }
   },
   "outputs": [],
   "source": [
    "(df,changed_mid)=analyze_difference(joint,\"CONST\",\"CONST\",\"Measure_ID\")"
   ]
  },
  {
   "cell_type": "code",
   "execution_count": 35,
   "id": "15cc9d50",
   "metadata": {
    "pycharm": {
     "name": "#%%\n"
    }
   },
   "outputs": [
    {
     "name": "stdout",
     "output_type": "stream",
     "text": [
      "=for Measure ID 226.01= \n",
      "Added\n",
      "{'G_CODE_1_PN_2', 'G_CODE_1_PD_2', 'G_CODE_3_PN_X_2', 'G_CODE_2_PD_Exe_2', 'ENCOUNTER_CODE_2', 'G_CODE_3_PD_2'}\n",
      "Removed\n",
      "{'G_CODE_2_PD_Exe', 'G_CODE_DENOM_CODE', 'G_CODE_2_PD', 'G_CODE_2_PN_X', 'ENCOUNTER_CODE', 'G_CODE_2_PN'}\n",
      "Changed\n",
      "set()\n",
      "==For Data Element name G_CODE_1_PN_2 ==\n",
      "Added\n",
      "{'G9906', 'G9902'}\n",
      "Removed\n",
      "set()\n",
      "Changed\n",
      "set()\n",
      "=== Changed Codes and everything else ===\n",
      "      Measure_ID DATA_ELEMENT_NAME CODING_SYSTEM   CODE MODIFIER  \\\n",
      "13327     226.01     G_CODE_1_PN_2         HCPCS  G9906      NaN   \n",
      "\n",
      "      PLACE_OF_SERVICE  AGE GENDER  CONST VERSION  \n",
      "13327              NaN  ≥18   M, F  CONST     NEW  \n",
      "=== Changed Codes and everything else ===\n",
      "      Measure_ID DATA_ELEMENT_NAME CODING_SYSTEM   CODE MODIFIER  \\\n",
      "13335     226.01     G_CODE_1_PN_2         HCPCS  G9902      NaN   \n",
      "\n",
      "      PLACE_OF_SERVICE  AGE GENDER  CONST VERSION  \n",
      "13335              NaN  ≥18   M, F  CONST     NEW  \n",
      "==For Data Element name G_CODE_1_PD_2 ==\n",
      "Added\n",
      "{'G9906', 'G9902'}\n",
      "Removed\n",
      "set()\n",
      "Changed\n",
      "set()\n",
      "=== Changed Codes and everything else ===\n",
      "      Measure_ID DATA_ELEMENT_NAME CODING_SYSTEM   CODE MODIFIER  \\\n",
      "13331     226.01     G_CODE_1_PD_2         HCPCS  G9906      NaN   \n",
      "\n",
      "      PLACE_OF_SERVICE  AGE GENDER  CONST VERSION  \n",
      "13331              NaN  ≥18   M, F  CONST     NEW  \n",
      "=== Changed Codes and everything else ===\n",
      "      Measure_ID DATA_ELEMENT_NAME CODING_SYSTEM   CODE MODIFIER  \\\n",
      "13326     226.01     G_CODE_1_PD_2         HCPCS  G9902      NaN   \n",
      "\n",
      "      PLACE_OF_SERVICE  AGE GENDER  CONST VERSION  \n",
      "13326              NaN  ≥18   M, F  CONST     NEW  \n",
      "==For Data Element name G_CODE_3_PN_X_2 ==\n",
      "Added\n",
      "{'G9908', 'G9902'}\n",
      "Removed\n",
      "set()\n",
      "Changed\n",
      "set()\n",
      "=== Changed Codes and everything else ===\n",
      "      Measure_ID DATA_ELEMENT_NAME CODING_SYSTEM   CODE MODIFIER  \\\n",
      "13329     226.01   G_CODE_3_PN_X_2         HCPCS  G9908      NaN   \n",
      "\n",
      "      PLACE_OF_SERVICE  AGE GENDER  CONST VERSION  \n",
      "13329              NaN  ≥18   M, F  CONST     NEW  \n",
      "=== Changed Codes and everything else ===\n",
      "      Measure_ID DATA_ELEMENT_NAME CODING_SYSTEM   CODE MODIFIER  \\\n",
      "13334     226.01   G_CODE_3_PN_X_2         HCPCS  G9902      NaN   \n",
      "\n",
      "      PLACE_OF_SERVICE  AGE GENDER  CONST VERSION  \n",
      "13334              NaN  ≥18   M, F  CONST     NEW  \n",
      "==For Data Element name G_CODE_2_PD_Exe ==\n",
      "Added\n",
      "set()\n",
      "Removed\n",
      "{'G9907'}\n",
      "Changed\n",
      "set()\n",
      "=== Changed Codes and everything else ===\n",
      "      Measure_ID DATA_ELEMENT_NAME CODING_SYSTEM   CODE MODIFIER  \\\n",
      "23751     226.01   G_CODE_2_PD_Exe         HCPCS  G9907      NaN   \n",
      "\n",
      "      PLACE_OF_SERVICE  AGE GENDER  CONST VERSION  \n",
      "23751              NaN  ≥18   M, F  CONST    BASE  \n",
      "==For Data Element name G_CODE_DENOM_CODE ==\n",
      "Added\n",
      "set()\n",
      "Removed\n",
      "{'G9902'}\n",
      "Changed\n",
      "set()\n",
      "=== Changed Codes and everything else ===\n",
      "      Measure_ID  DATA_ELEMENT_NAME CODING_SYSTEM   CODE MODIFIER  \\\n",
      "23748     226.01  G_CODE_DENOM_CODE         HCPCS  G9902      NaN   \n",
      "\n",
      "      PLACE_OF_SERVICE  AGE GENDER  CONST VERSION  \n",
      "23748              NaN  ≥18   M, F  CONST    BASE  \n",
      "==For Data Element name G_CODE_2_PD ==\n",
      "Added\n",
      "set()\n",
      "Removed\n",
      "{'G9906', 'G9908'}\n",
      "Changed\n",
      "set()\n",
      "=== Changed Codes and everything else ===\n",
      "      Measure_ID DATA_ELEMENT_NAME CODING_SYSTEM   CODE MODIFIER  \\\n",
      "23749     226.01       G_CODE_2_PD         HCPCS  G9906      NaN   \n",
      "\n",
      "      PLACE_OF_SERVICE  AGE GENDER  CONST VERSION  \n",
      "23749              NaN  ≥18   M, F  CONST    BASE  \n",
      "=== Changed Codes and everything else ===\n",
      "      Measure_ID DATA_ELEMENT_NAME CODING_SYSTEM   CODE MODIFIER  \\\n",
      "23752     226.01       G_CODE_2_PD         HCPCS  G9908      NaN   \n",
      "\n",
      "      PLACE_OF_SERVICE  AGE GENDER  CONST VERSION  \n",
      "23752              NaN  ≥18   M, F  CONST    BASE  \n",
      "==For Data Element name G_CODE_2_PN_X ==\n",
      "Added\n",
      "set()\n",
      "Removed\n",
      "{'G9908'}\n",
      "Changed\n",
      "set()\n",
      "=== Changed Codes and everything else ===\n",
      "      Measure_ID DATA_ELEMENT_NAME CODING_SYSTEM   CODE MODIFIER  \\\n",
      "23753     226.01     G_CODE_2_PN_X         HCPCS  G9908      NaN   \n",
      "\n",
      "      PLACE_OF_SERVICE  AGE GENDER  CONST VERSION  \n",
      "23753              NaN  ≥18   M, F  CONST    BASE  \n",
      "==For Data Element name G_CODE_2_PD_Exe_2 ==\n",
      "Added\n",
      "{'G9907', 'G9902'}\n",
      "Removed\n",
      "set()\n",
      "Changed\n",
      "set()\n",
      "=== Changed Codes and everything else ===\n",
      "      Measure_ID  DATA_ELEMENT_NAME CODING_SYSTEM   CODE MODIFIER  \\\n",
      "13328     226.01  G_CODE_2_PD_Exe_2         HCPCS  G9907      NaN   \n",
      "\n",
      "      PLACE_OF_SERVICE  AGE GENDER  CONST VERSION  \n",
      "13328              NaN  ≥18   M, F  CONST     NEW  \n",
      "=== Changed Codes and everything else ===\n",
      "      Measure_ID  DATA_ELEMENT_NAME CODING_SYSTEM   CODE MODIFIER  \\\n",
      "13330     226.01  G_CODE_2_PD_Exe_2         HCPCS  G9902      NaN   \n",
      "\n",
      "      PLACE_OF_SERVICE  AGE GENDER  CONST VERSION  \n",
      "13330              NaN  ≥18   M, F  CONST     NEW  \n",
      "==For Data Element name ENCOUNTER_CODE ==\n",
      "Added\n",
      "set()\n",
      "Removed\n",
      "{'99411', '99203', '97165', '99201', '99397', '99215', '99401', '99344', '99387', '92540', '90832', '99345', '99204', '99402', '99429', '99396', 'G0438', '99213', '92004', '92523', '92524', '99404', '92522', '92014', '99347', '99349', '90845', '99395', '92625', '99341', '90791', '99205', '99385', '96156', '99386', '97168', '99403', 'G0439', '97167', '90792', '99342', '99214', '92557', '99412', '99212', '99202', '99343', '92002', '90834', '92521', '90837', '92012', '97166', '99348', '96158', '99350'}\n",
      "Changed\n",
      "set()\n",
      "=== Changed Codes and everything else ===\n",
      "      Measure_ID DATA_ELEMENT_NAME CODING_SYSTEM   CODE     MODIFIER  \\\n",
      "23743     226.01    ENCOUNTER_CODE            C4  99411  ≠GQ, GT, 95   \n",
      "\n",
      "      PLACE_OF_SERVICE  AGE GENDER  CONST VERSION  \n",
      "23743              ≠02  ≥18   M, F  CONST    BASE  \n",
      "=== Changed Codes and everything else ===\n",
      "      Measure_ID DATA_ELEMENT_NAME CODING_SYSTEM   CODE     MODIFIER  \\\n",
      "23717     226.01    ENCOUNTER_CODE            C4  99203  ≠GQ, GT, 95   \n",
      "\n",
      "      PLACE_OF_SERVICE  AGE GENDER  CONST VERSION  \n",
      "23717              ≠02  ≥18   M, F  CONST    BASE  \n",
      "=== Changed Codes and everything else ===\n",
      "      Measure_ID DATA_ELEMENT_NAME CODING_SYSTEM   CODE     MODIFIER  \\\n",
      "23711     226.01    ENCOUNTER_CODE            C4  97165  ≠GQ, GT, 95   \n",
      "\n",
      "      PLACE_OF_SERVICE  AGE GENDER  CONST VERSION  \n",
      "23711              ≠02  ≥18   M, F  CONST    BASE  \n",
      "=== Changed Codes and everything else ===\n",
      "      Measure_ID DATA_ELEMENT_NAME CODING_SYSTEM   CODE     MODIFIER  \\\n",
      "23715     226.01    ENCOUNTER_CODE            C4  99201  ≠GQ, GT, 95   \n",
      "\n",
      "      PLACE_OF_SERVICE  AGE GENDER  CONST VERSION  \n",
      "23715              ≠02  ≥18   M, F  CONST    BASE  \n",
      "=== Changed Codes and everything else ===\n",
      "      Measure_ID DATA_ELEMENT_NAME CODING_SYSTEM   CODE     MODIFIER  \\\n",
      "23738     226.01    ENCOUNTER_CODE            C4  99397  ≠GQ, GT, 95   \n",
      "\n",
      "      PLACE_OF_SERVICE  AGE GENDER  CONST VERSION  \n",
      "23738              ≠02  ≥18   M, F  CONST    BASE  \n",
      "=== Changed Codes and everything else ===\n",
      "      Measure_ID DATA_ELEMENT_NAME CODING_SYSTEM   CODE     MODIFIER  \\\n",
      "23723     226.01    ENCOUNTER_CODE            C4  99215  ≠GQ, GT, 95   \n",
      "\n",
      "      PLACE_OF_SERVICE  AGE GENDER  CONST VERSION  \n",
      "23723              ≠02  ≥18   M, F  CONST    BASE  \n",
      "=== Changed Codes and everything else ===\n",
      "      Measure_ID DATA_ELEMENT_NAME CODING_SYSTEM   CODE     MODIFIER  \\\n",
      "23739     226.01    ENCOUNTER_CODE            C4  99401  ≠GQ, GT, 95   \n",
      "\n",
      "      PLACE_OF_SERVICE  AGE GENDER  CONST VERSION  \n",
      "23739              ≠02  ≥18   M, F  CONST    BASE  \n",
      "=== Changed Codes and everything else ===\n",
      "      Measure_ID DATA_ELEMENT_NAME CODING_SYSTEM   CODE     MODIFIER  \\\n",
      "23727     226.01    ENCOUNTER_CODE            C4  99344  ≠GQ, GT, 95   \n",
      "\n",
      "      PLACE_OF_SERVICE  AGE GENDER  CONST VERSION  \n",
      "23727              ≠02  ≥18   M, F  CONST    BASE  \n",
      "=== Changed Codes and everything else ===\n",
      "      Measure_ID DATA_ELEMENT_NAME CODING_SYSTEM   CODE     MODIFIER  \\\n",
      "23735     226.01    ENCOUNTER_CODE            C4  99387  ≠GQ, GT, 95   \n",
      "\n",
      "      PLACE_OF_SERVICE  AGE GENDER  CONST VERSION  \n",
      "23735              ≠02  ≥18   M, F  CONST    BASE  \n",
      "=== Changed Codes and everything else ===\n",
      "      Measure_ID DATA_ELEMENT_NAME CODING_SYSTEM   CODE     MODIFIER  \\\n",
      "23706     226.01    ENCOUNTER_CODE            C4  92540  ≠GQ, GT, 95   \n",
      "\n",
      "      PLACE_OF_SERVICE  AGE GENDER  CONST VERSION  \n",
      "23706              ≠02  ≥18   M, F  CONST    BASE  \n",
      "=== Changed Codes and everything else ===\n",
      "      Measure_ID DATA_ELEMENT_NAME CODING_SYSTEM   CODE     MODIFIER  \\\n",
      "23694     226.01    ENCOUNTER_CODE            C4  90832  ≠GQ, GT, 95   \n",
      "\n",
      "      PLACE_OF_SERVICE  AGE GENDER  CONST VERSION  \n",
      "23694              ≠02  ≥18   M, F  CONST    BASE  \n",
      "=== Changed Codes and everything else ===\n",
      "      Measure_ID DATA_ELEMENT_NAME CODING_SYSTEM   CODE     MODIFIER  \\\n",
      "23728     226.01    ENCOUNTER_CODE            C4  99345  ≠GQ, GT, 95   \n",
      "\n",
      "      PLACE_OF_SERVICE  AGE GENDER  CONST VERSION  \n",
      "23728              ≠02  ≥18   M, F  CONST    BASE  \n",
      "=== Changed Codes and everything else ===\n",
      "      Measure_ID DATA_ELEMENT_NAME CODING_SYSTEM   CODE     MODIFIER  \\\n",
      "23718     226.01    ENCOUNTER_CODE            C4  99204  ≠GQ, GT, 95   \n",
      "\n",
      "      PLACE_OF_SERVICE  AGE GENDER  CONST VERSION  \n",
      "23718              ≠02  ≥18   M, F  CONST    BASE  \n",
      "=== Changed Codes and everything else ===\n",
      "      Measure_ID DATA_ELEMENT_NAME CODING_SYSTEM   CODE     MODIFIER  \\\n",
      "23740     226.01    ENCOUNTER_CODE            C4  99402  ≠GQ, GT, 95   \n",
      "\n",
      "      PLACE_OF_SERVICE  AGE GENDER  CONST VERSION  \n",
      "23740              ≠02  ≥18   M, F  CONST    BASE  \n",
      "=== Changed Codes and everything else ===\n",
      "      Measure_ID DATA_ELEMENT_NAME CODING_SYSTEM   CODE     MODIFIER  \\\n",
      "23745     226.01    ENCOUNTER_CODE            C4  99429  ≠GQ, GT, 95   \n",
      "\n",
      "      PLACE_OF_SERVICE  AGE GENDER  CONST VERSION  \n",
      "23745              ≠02  ≥18   M, F  CONST    BASE  \n",
      "=== Changed Codes and everything else ===\n",
      "      Measure_ID DATA_ELEMENT_NAME CODING_SYSTEM   CODE     MODIFIER  \\\n",
      "23737     226.01    ENCOUNTER_CODE            C4  99396  ≠GQ, GT, 95   \n",
      "\n",
      "      PLACE_OF_SERVICE  AGE GENDER  CONST VERSION  \n",
      "23737              ≠02  ≥18   M, F  CONST    BASE  \n",
      "=== Changed Codes and everything else ===\n",
      "      Measure_ID DATA_ELEMENT_NAME CODING_SYSTEM   CODE     MODIFIER  \\\n",
      "23746     226.01    ENCOUNTER_CODE         HCPCS  G0438  ≠GQ, GT, 95   \n",
      "\n",
      "      PLACE_OF_SERVICE  AGE GENDER  CONST VERSION  \n",
      "23746              ≠02  ≥18   M, F  CONST    BASE  \n",
      "=== Changed Codes and everything else ===\n",
      "      Measure_ID DATA_ELEMENT_NAME CODING_SYSTEM   CODE     MODIFIER  \\\n",
      "23721     226.01    ENCOUNTER_CODE            C4  99213  ≠GQ, GT, 95   \n",
      "\n",
      "      PLACE_OF_SERVICE  AGE GENDER  CONST VERSION  \n",
      "23721              ≠02  ≥18   M, F  CONST    BASE  \n",
      "=== Changed Codes and everything else ===\n",
      "      Measure_ID DATA_ELEMENT_NAME CODING_SYSTEM   CODE     MODIFIER  \\\n",
      "23699     226.01    ENCOUNTER_CODE            C4  92004  ≠GQ, GT, 95   \n",
      "\n",
      "      PLACE_OF_SERVICE  AGE GENDER  CONST VERSION  \n",
      "23699              ≠02  ≥18   M, F  CONST    BASE  \n",
      "=== Changed Codes and everything else ===\n",
      "      Measure_ID DATA_ELEMENT_NAME CODING_SYSTEM   CODE     MODIFIER  \\\n",
      "23704     226.01    ENCOUNTER_CODE            C4  92523  ≠GQ, GT, 95   \n",
      "\n",
      "      PLACE_OF_SERVICE  AGE GENDER  CONST VERSION  \n",
      "23704              ≠02  ≥18   M, F  CONST    BASE  \n",
      "=== Changed Codes and everything else ===\n",
      "      Measure_ID DATA_ELEMENT_NAME CODING_SYSTEM   CODE     MODIFIER  \\\n",
      "23705     226.01    ENCOUNTER_CODE            C4  92524  ≠GQ, GT, 95   \n",
      "\n",
      "      PLACE_OF_SERVICE  AGE GENDER  CONST VERSION  \n",
      "23705              ≠02  ≥18   M, F  CONST    BASE  \n",
      "=== Changed Codes and everything else ===\n",
      "      Measure_ID DATA_ELEMENT_NAME CODING_SYSTEM   CODE     MODIFIER  \\\n",
      "23742     226.01    ENCOUNTER_CODE            C4  99404  ≠GQ, GT, 95   \n",
      "\n",
      "      PLACE_OF_SERVICE  AGE GENDER  CONST VERSION  \n",
      "23742              ≠02  ≥18   M, F  CONST    BASE  \n",
      "=== Changed Codes and everything else ===\n",
      "      Measure_ID DATA_ELEMENT_NAME CODING_SYSTEM   CODE     MODIFIER  \\\n",
      "23703     226.01    ENCOUNTER_CODE            C4  92522  ≠GQ, GT, 95   \n",
      "\n",
      "      PLACE_OF_SERVICE  AGE GENDER  CONST VERSION  \n",
      "23703              ≠02  ≥18   M, F  CONST    BASE  \n",
      "=== Changed Codes and everything else ===\n",
      "      Measure_ID DATA_ELEMENT_NAME CODING_SYSTEM   CODE     MODIFIER  \\\n",
      "23701     226.01    ENCOUNTER_CODE            C4  92014  ≠GQ, GT, 95   \n",
      "\n",
      "      PLACE_OF_SERVICE  AGE GENDER  CONST VERSION  \n",
      "23701              ≠02  ≥18   M, F  CONST    BASE  \n",
      "=== Changed Codes and everything else ===\n",
      "      Measure_ID DATA_ELEMENT_NAME CODING_SYSTEM   CODE     MODIFIER  \\\n",
      "23729     226.01    ENCOUNTER_CODE            C4  99347  ≠GQ, GT, 95   \n",
      "\n",
      "      PLACE_OF_SERVICE  AGE GENDER  CONST VERSION  \n",
      "23729              ≠02  ≥18   M, F  CONST    BASE  \n",
      "=== Changed Codes and everything else ===\n",
      "      Measure_ID DATA_ELEMENT_NAME CODING_SYSTEM   CODE     MODIFIER  \\\n",
      "23731     226.01    ENCOUNTER_CODE            C4  99349  ≠GQ, GT, 95   \n",
      "\n",
      "      PLACE_OF_SERVICE  AGE GENDER  CONST VERSION  \n",
      "23731              ≠02  ≥18   M, F  CONST    BASE  \n",
      "=== Changed Codes and everything else ===\n",
      "      Measure_ID DATA_ELEMENT_NAME CODING_SYSTEM   CODE     MODIFIER  \\\n",
      "23697     226.01    ENCOUNTER_CODE            C4  90845  ≠GQ, GT, 95   \n",
      "\n",
      "      PLACE_OF_SERVICE  AGE GENDER  CONST VERSION  \n",
      "23697              ≠02  ≥18   M, F  CONST    BASE  \n",
      "=== Changed Codes and everything else ===\n",
      "      Measure_ID DATA_ELEMENT_NAME CODING_SYSTEM   CODE     MODIFIER  \\\n",
      "23736     226.01    ENCOUNTER_CODE            C4  99395  ≠GQ, GT, 95   \n",
      "\n",
      "      PLACE_OF_SERVICE  AGE GENDER  CONST VERSION  \n",
      "23736              ≠02  ≥18   M, F  CONST    BASE  \n",
      "=== Changed Codes and everything else ===\n",
      "      Measure_ID DATA_ELEMENT_NAME CODING_SYSTEM   CODE     MODIFIER  \\\n",
      "23708     226.01    ENCOUNTER_CODE            C4  92625  ≠GQ, GT, 95   \n",
      "\n",
      "      PLACE_OF_SERVICE  AGE GENDER  CONST VERSION  \n",
      "23708              ≠02  ≥18   M, F  CONST    BASE  \n",
      "=== Changed Codes and everything else ===\n",
      "      Measure_ID DATA_ELEMENT_NAME CODING_SYSTEM   CODE     MODIFIER  \\\n",
      "23724     226.01    ENCOUNTER_CODE            C4  99341  ≠GQ, GT, 95   \n",
      "\n",
      "      PLACE_OF_SERVICE  AGE GENDER  CONST VERSION  \n",
      "23724              ≠02  ≥18   M, F  CONST    BASE  \n",
      "=== Changed Codes and everything else ===\n",
      "      Measure_ID DATA_ELEMENT_NAME CODING_SYSTEM   CODE     MODIFIER  \\\n",
      "23692     226.01    ENCOUNTER_CODE            C4  90791  ≠GQ, GT, 95   \n",
      "\n",
      "      PLACE_OF_SERVICE  AGE GENDER  CONST VERSION  \n",
      "23692              ≠02  ≥18   M, F  CONST    BASE  \n",
      "=== Changed Codes and everything else ===\n",
      "      Measure_ID DATA_ELEMENT_NAME CODING_SYSTEM   CODE     MODIFIER  \\\n",
      "23719     226.01    ENCOUNTER_CODE            C4  99205  ≠GQ, GT, 95   \n",
      "\n",
      "      PLACE_OF_SERVICE  AGE GENDER  CONST VERSION  \n",
      "23719              ≠02  ≥18   M, F  CONST    BASE  \n",
      "=== Changed Codes and everything else ===\n",
      "      Measure_ID DATA_ELEMENT_NAME CODING_SYSTEM   CODE     MODIFIER  \\\n",
      "23733     226.01    ENCOUNTER_CODE            C4  99385  ≠GQ, GT, 95   \n",
      "\n",
      "      PLACE_OF_SERVICE  AGE GENDER  CONST VERSION  \n",
      "23733              ≠02  ≥18   M, F  CONST    BASE  \n",
      "=== Changed Codes and everything else ===\n",
      "      Measure_ID DATA_ELEMENT_NAME CODING_SYSTEM   CODE     MODIFIER  \\\n",
      "23709     226.01    ENCOUNTER_CODE            C4  96156  ≠GQ, GT, 95   \n",
      "\n",
      "      PLACE_OF_SERVICE  AGE GENDER  CONST VERSION  \n",
      "23709              ≠02  ≥18   M, F  CONST    BASE  \n",
      "=== Changed Codes and everything else ===\n",
      "      Measure_ID DATA_ELEMENT_NAME CODING_SYSTEM   CODE     MODIFIER  \\\n",
      "23734     226.01    ENCOUNTER_CODE            C4  99386  ≠GQ, GT, 95   \n",
      "\n",
      "      PLACE_OF_SERVICE  AGE GENDER  CONST VERSION  \n",
      "23734              ≠02  ≥18   M, F  CONST    BASE  \n",
      "=== Changed Codes and everything else ===\n",
      "      Measure_ID DATA_ELEMENT_NAME CODING_SYSTEM   CODE     MODIFIER  \\\n",
      "23714     226.01    ENCOUNTER_CODE            C4  97168  ≠GQ, GT, 95   \n",
      "\n",
      "      PLACE_OF_SERVICE  AGE GENDER  CONST VERSION  \n",
      "23714              ≠02  ≥18   M, F  CONST    BASE  \n",
      "=== Changed Codes and everything else ===\n",
      "      Measure_ID DATA_ELEMENT_NAME CODING_SYSTEM   CODE     MODIFIER  \\\n",
      "23741     226.01    ENCOUNTER_CODE            C4  99403  ≠GQ, GT, 95   \n",
      "\n",
      "      PLACE_OF_SERVICE  AGE GENDER  CONST VERSION  \n",
      "23741              ≠02  ≥18   M, F  CONST    BASE  \n",
      "=== Changed Codes and everything else ===\n",
      "      Measure_ID DATA_ELEMENT_NAME CODING_SYSTEM   CODE     MODIFIER  \\\n",
      "23747     226.01    ENCOUNTER_CODE         HCPCS  G0439  ≠GQ, GT, 95   \n",
      "\n",
      "      PLACE_OF_SERVICE  AGE GENDER  CONST VERSION  \n",
      "23747              ≠02  ≥18   M, F  CONST    BASE  \n",
      "=== Changed Codes and everything else ===\n",
      "      Measure_ID DATA_ELEMENT_NAME CODING_SYSTEM   CODE     MODIFIER  \\\n",
      "23713     226.01    ENCOUNTER_CODE            C4  97167  ≠GQ, GT, 95   \n",
      "\n",
      "      PLACE_OF_SERVICE  AGE GENDER  CONST VERSION  \n",
      "23713              ≠02  ≥18   M, F  CONST    BASE  \n",
      "=== Changed Codes and everything else ===\n",
      "      Measure_ID DATA_ELEMENT_NAME CODING_SYSTEM   CODE     MODIFIER  \\\n",
      "23693     226.01    ENCOUNTER_CODE            C4  90792  ≠GQ, GT, 95   \n",
      "\n",
      "      PLACE_OF_SERVICE  AGE GENDER  CONST VERSION  \n",
      "23693              ≠02  ≥18   M, F  CONST    BASE  \n",
      "=== Changed Codes and everything else ===\n",
      "      Measure_ID DATA_ELEMENT_NAME CODING_SYSTEM   CODE     MODIFIER  \\\n",
      "23725     226.01    ENCOUNTER_CODE            C4  99342  ≠GQ, GT, 95   \n",
      "\n",
      "      PLACE_OF_SERVICE  AGE GENDER  CONST VERSION  \n",
      "23725              ≠02  ≥18   M, F  CONST    BASE  \n",
      "=== Changed Codes and everything else ===\n",
      "      Measure_ID DATA_ELEMENT_NAME CODING_SYSTEM   CODE     MODIFIER  \\\n",
      "23722     226.01    ENCOUNTER_CODE            C4  99214  ≠GQ, GT, 95   \n",
      "\n",
      "      PLACE_OF_SERVICE  AGE GENDER  CONST VERSION  \n",
      "23722              ≠02  ≥18   M, F  CONST    BASE  \n",
      "=== Changed Codes and everything else ===\n",
      "      Measure_ID DATA_ELEMENT_NAME CODING_SYSTEM   CODE     MODIFIER  \\\n",
      "23707     226.01    ENCOUNTER_CODE            C4  92557  ≠GQ, GT, 95   \n",
      "\n",
      "      PLACE_OF_SERVICE  AGE GENDER  CONST VERSION  \n",
      "23707              ≠02  ≥18   M, F  CONST    BASE  \n",
      "=== Changed Codes and everything else ===\n",
      "      Measure_ID DATA_ELEMENT_NAME CODING_SYSTEM   CODE     MODIFIER  \\\n",
      "23744     226.01    ENCOUNTER_CODE            C4  99412  ≠GQ, GT, 95   \n",
      "\n",
      "      PLACE_OF_SERVICE  AGE GENDER  CONST VERSION  \n",
      "23744              ≠02  ≥18   M, F  CONST    BASE  \n",
      "=== Changed Codes and everything else ===\n",
      "      Measure_ID DATA_ELEMENT_NAME CODING_SYSTEM   CODE     MODIFIER  \\\n",
      "23720     226.01    ENCOUNTER_CODE            C4  99212  ≠GQ, GT, 95   \n",
      "\n",
      "      PLACE_OF_SERVICE  AGE GENDER  CONST VERSION  \n",
      "23720              ≠02  ≥18   M, F  CONST    BASE  \n",
      "=== Changed Codes and everything else ===\n",
      "      Measure_ID DATA_ELEMENT_NAME CODING_SYSTEM   CODE     MODIFIER  \\\n",
      "23716     226.01    ENCOUNTER_CODE            C4  99202  ≠GQ, GT, 95   \n",
      "\n",
      "      PLACE_OF_SERVICE  AGE GENDER  CONST VERSION  \n",
      "23716              ≠02  ≥18   M, F  CONST    BASE  \n",
      "=== Changed Codes and everything else ===\n",
      "      Measure_ID DATA_ELEMENT_NAME CODING_SYSTEM   CODE     MODIFIER  \\\n",
      "23726     226.01    ENCOUNTER_CODE            C4  99343  ≠GQ, GT, 95   \n",
      "\n",
      "      PLACE_OF_SERVICE  AGE GENDER  CONST VERSION  \n",
      "23726              ≠02  ≥18   M, F  CONST    BASE  \n",
      "=== Changed Codes and everything else ===\n",
      "      Measure_ID DATA_ELEMENT_NAME CODING_SYSTEM   CODE     MODIFIER  \\\n",
      "23698     226.01    ENCOUNTER_CODE            C4  92002  ≠GQ, GT, 95   \n",
      "\n",
      "      PLACE_OF_SERVICE  AGE GENDER  CONST VERSION  \n",
      "23698              ≠02  ≥18   M, F  CONST    BASE  \n",
      "=== Changed Codes and everything else ===\n",
      "      Measure_ID DATA_ELEMENT_NAME CODING_SYSTEM   CODE     MODIFIER  \\\n",
      "23695     226.01    ENCOUNTER_CODE            C4  90834  ≠GQ, GT, 95   \n",
      "\n",
      "      PLACE_OF_SERVICE  AGE GENDER  CONST VERSION  \n",
      "23695              ≠02  ≥18   M, F  CONST    BASE  \n",
      "=== Changed Codes and everything else ===\n",
      "      Measure_ID DATA_ELEMENT_NAME CODING_SYSTEM   CODE     MODIFIER  \\\n",
      "23702     226.01    ENCOUNTER_CODE            C4  92521  ≠GQ, GT, 95   \n",
      "\n",
      "      PLACE_OF_SERVICE  AGE GENDER  CONST VERSION  \n",
      "23702              ≠02  ≥18   M, F  CONST    BASE  \n",
      "=== Changed Codes and everything else ===\n",
      "      Measure_ID DATA_ELEMENT_NAME CODING_SYSTEM   CODE     MODIFIER  \\\n",
      "23696     226.01    ENCOUNTER_CODE            C4  90837  ≠GQ, GT, 95   \n",
      "\n",
      "      PLACE_OF_SERVICE  AGE GENDER  CONST VERSION  \n",
      "23696              ≠02  ≥18   M, F  CONST    BASE  \n",
      "=== Changed Codes and everything else ===\n",
      "      Measure_ID DATA_ELEMENT_NAME CODING_SYSTEM   CODE     MODIFIER  \\\n",
      "23700     226.01    ENCOUNTER_CODE            C4  92012  ≠GQ, GT, 95   \n",
      "\n",
      "      PLACE_OF_SERVICE  AGE GENDER  CONST VERSION  \n",
      "23700              ≠02  ≥18   M, F  CONST    BASE  \n",
      "=== Changed Codes and everything else ===\n",
      "      Measure_ID DATA_ELEMENT_NAME CODING_SYSTEM   CODE     MODIFIER  \\\n",
      "23712     226.01    ENCOUNTER_CODE            C4  97166  ≠GQ, GT, 95   \n",
      "\n",
      "      PLACE_OF_SERVICE  AGE GENDER  CONST VERSION  \n",
      "23712              ≠02  ≥18   M, F  CONST    BASE  \n",
      "=== Changed Codes and everything else ===\n",
      "      Measure_ID DATA_ELEMENT_NAME CODING_SYSTEM   CODE     MODIFIER  \\\n",
      "23730     226.01    ENCOUNTER_CODE            C4  99348  ≠GQ, GT, 95   \n",
      "\n",
      "      PLACE_OF_SERVICE  AGE GENDER  CONST VERSION  \n",
      "23730              ≠02  ≥18   M, F  CONST    BASE  \n",
      "=== Changed Codes and everything else ===\n",
      "      Measure_ID DATA_ELEMENT_NAME CODING_SYSTEM   CODE     MODIFIER  \\\n",
      "23710     226.01    ENCOUNTER_CODE            C4  96158  ≠GQ, GT, 95   \n",
      "\n",
      "      PLACE_OF_SERVICE  AGE GENDER  CONST VERSION  \n",
      "23710              ≠02  ≥18   M, F  CONST    BASE  \n",
      "=== Changed Codes and everything else ===\n",
      "      Measure_ID DATA_ELEMENT_NAME CODING_SYSTEM   CODE     MODIFIER  \\\n",
      "23732     226.01    ENCOUNTER_CODE            C4  99350  ≠GQ, GT, 95   \n",
      "\n",
      "      PLACE_OF_SERVICE  AGE GENDER  CONST VERSION  \n",
      "23732              ≠02  ≥18   M, F  CONST    BASE  \n",
      "==For Data Element name G_CODE_2_PN ==\n",
      "Added\n",
      "set()\n",
      "Removed\n",
      "{'G9906'}\n",
      "Changed\n",
      "set()\n",
      "=== Changed Codes and everything else ===\n",
      "      Measure_ID DATA_ELEMENT_NAME CODING_SYSTEM   CODE MODIFIER  \\\n",
      "23750     226.01       G_CODE_2_PN         HCPCS  G9906      NaN   \n",
      "\n",
      "      PLACE_OF_SERVICE  AGE GENDER  CONST VERSION  \n",
      "23750              NaN  ≥18   M, F  CONST    BASE  \n",
      "==For Data Element name ENCOUNTER_CODE_2 ==\n",
      "Added\n",
      "{'99411', '99203', '97165', '99397', '99215', '99401', '99344', '99387', '92540', '90832', '99345', '99204', '99402', '99429', '99396', 'G0438', '99213', '92004', '92523', '92524', '99404', '92522', '92014', '99347', '99349', '90845', '97163', '99395', '97161', '92625', '97162', '99341', '90791', '99205', '99385', '96156', '99386', '97168', '99403', 'G0439', '97167', '90792', '99342', '99214', '92557', '99412', '99212', '99202', '99343', '92002', '90834', '92521', '90837', '92012', '97166', '99348', '96158', '99350'}\n",
      "Removed\n",
      "set()\n",
      "Changed\n",
      "set()\n",
      "=== Changed Codes and everything else ===\n",
      "      Measure_ID DATA_ELEMENT_NAME CODING_SYSTEM   CODE MODIFIER  \\\n",
      "13321     226.01  ENCOUNTER_CODE_2            C4  99411      NaN   \n",
      "\n",
      "      PLACE_OF_SERVICE  AGE GENDER  CONST VERSION  \n",
      "13321              NaN  ≥18   M, F  CONST     NEW  \n",
      "=== Changed Codes and everything else ===\n",
      "      Measure_ID DATA_ELEMENT_NAME CODING_SYSTEM   CODE MODIFIER  \\\n",
      "13295     226.01  ENCOUNTER_CODE_2            C4  99203      NaN   \n",
      "\n",
      "      PLACE_OF_SERVICE  AGE GENDER  CONST VERSION  \n",
      "13295              NaN  ≥18   M, F  CONST     NEW  \n",
      "=== Changed Codes and everything else ===\n",
      "      Measure_ID DATA_ELEMENT_NAME CODING_SYSTEM   CODE MODIFIER  \\\n",
      "13290     226.01  ENCOUNTER_CODE_2            C4  97165      NaN   \n",
      "\n",
      "      PLACE_OF_SERVICE  AGE GENDER  CONST VERSION  \n",
      "13290              NaN  ≥18   M, F  CONST     NEW  \n",
      "=== Changed Codes and everything else ===\n",
      "      Measure_ID DATA_ELEMENT_NAME CODING_SYSTEM   CODE MODIFIER  \\\n",
      "13316     226.01  ENCOUNTER_CODE_2            C4  99397      NaN   \n",
      "\n",
      "      PLACE_OF_SERVICE  AGE GENDER  CONST VERSION  \n",
      "13316              NaN  ≥18   M, F  CONST     NEW  \n",
      "=== Changed Codes and everything else ===\n",
      "      Measure_ID DATA_ELEMENT_NAME CODING_SYSTEM   CODE MODIFIER  \\\n",
      "13301     226.01  ENCOUNTER_CODE_2            C4  99215      NaN   \n",
      "\n",
      "      PLACE_OF_SERVICE  AGE GENDER  CONST VERSION  \n",
      "13301              NaN  ≥18   M, F  CONST     NEW  \n",
      "=== Changed Codes and everything else ===\n",
      "      Measure_ID DATA_ELEMENT_NAME CODING_SYSTEM   CODE MODIFIER  \\\n",
      "13317     226.01  ENCOUNTER_CODE_2            C4  99401      NaN   \n",
      "\n",
      "      PLACE_OF_SERVICE  AGE GENDER  CONST VERSION  \n",
      "13317              NaN  ≥18   M, F  CONST     NEW  \n",
      "=== Changed Codes and everything else ===\n",
      "      Measure_ID DATA_ELEMENT_NAME CODING_SYSTEM   CODE MODIFIER  \\\n",
      "13305     226.01  ENCOUNTER_CODE_2            C4  99344      NaN   \n",
      "\n",
      "      PLACE_OF_SERVICE  AGE GENDER  CONST VERSION  \n",
      "13305              NaN  ≥18   M, F  CONST     NEW  \n",
      "=== Changed Codes and everything else ===\n",
      "      Measure_ID DATA_ELEMENT_NAME CODING_SYSTEM   CODE MODIFIER  \\\n",
      "13313     226.01  ENCOUNTER_CODE_2            C4  99387      NaN   \n",
      "\n",
      "      PLACE_OF_SERVICE  AGE GENDER  CONST VERSION  \n",
      "13313              NaN  ≥18   M, F  CONST     NEW  \n",
      "=== Changed Codes and everything else ===\n",
      "      Measure_ID DATA_ELEMENT_NAME CODING_SYSTEM   CODE MODIFIER  \\\n",
      "13282     226.01  ENCOUNTER_CODE_2            C4  92540      NaN   \n",
      "\n",
      "      PLACE_OF_SERVICE  AGE GENDER  CONST VERSION  \n",
      "13282              NaN  ≥18   M, F  CONST     NEW  \n",
      "=== Changed Codes and everything else ===\n",
      "      Measure_ID DATA_ELEMENT_NAME CODING_SYSTEM   CODE MODIFIER  \\\n",
      "13270     226.01  ENCOUNTER_CODE_2            C4  90832      NaN   \n",
      "\n",
      "      PLACE_OF_SERVICE  AGE GENDER  CONST VERSION  \n",
      "13270              NaN  ≥18   M, F  CONST     NEW  \n",
      "=== Changed Codes and everything else ===\n",
      "      Measure_ID DATA_ELEMENT_NAME CODING_SYSTEM   CODE MODIFIER  \\\n",
      "13306     226.01  ENCOUNTER_CODE_2            C4  99345      NaN   \n",
      "\n",
      "      PLACE_OF_SERVICE  AGE GENDER  CONST VERSION  \n",
      "13306              NaN  ≥18   M, F  CONST     NEW  \n",
      "=== Changed Codes and everything else ===\n",
      "      Measure_ID DATA_ELEMENT_NAME CODING_SYSTEM   CODE MODIFIER  \\\n",
      "13296     226.01  ENCOUNTER_CODE_2            C4  99204      NaN   \n",
      "\n",
      "      PLACE_OF_SERVICE  AGE GENDER  CONST VERSION  \n",
      "13296              NaN  ≥18   M, F  CONST     NEW  \n",
      "=== Changed Codes and everything else ===\n",
      "      Measure_ID DATA_ELEMENT_NAME CODING_SYSTEM   CODE MODIFIER  \\\n",
      "13318     226.01  ENCOUNTER_CODE_2            C4  99402      NaN   \n",
      "\n",
      "      PLACE_OF_SERVICE  AGE GENDER  CONST VERSION  \n",
      "13318              NaN  ≥18   M, F  CONST     NEW  \n",
      "=== Changed Codes and everything else ===\n",
      "      Measure_ID DATA_ELEMENT_NAME CODING_SYSTEM   CODE MODIFIER  \\\n",
      "13323     226.01  ENCOUNTER_CODE_2            C4  99429      NaN   \n",
      "\n",
      "      PLACE_OF_SERVICE  AGE GENDER  CONST VERSION  \n",
      "13323              NaN  ≥18   M, F  CONST     NEW  \n",
      "=== Changed Codes and everything else ===\n",
      "      Measure_ID DATA_ELEMENT_NAME CODING_SYSTEM   CODE MODIFIER  \\\n",
      "13315     226.01  ENCOUNTER_CODE_2            C4  99396      NaN   \n",
      "\n",
      "      PLACE_OF_SERVICE  AGE GENDER  CONST VERSION  \n",
      "13315              NaN  ≥18   M, F  CONST     NEW  \n",
      "=== Changed Codes and everything else ===\n",
      "      Measure_ID DATA_ELEMENT_NAME CODING_SYSTEM   CODE MODIFIER  \\\n",
      "13324     226.01  ENCOUNTER_CODE_2         HCPCS  G0438      NaN   \n",
      "\n",
      "      PLACE_OF_SERVICE  AGE GENDER  CONST VERSION  \n",
      "13324              NaN  ≥18   M, F  CONST     NEW  \n",
      "=== Changed Codes and everything else ===\n",
      "      Measure_ID DATA_ELEMENT_NAME CODING_SYSTEM   CODE MODIFIER  \\\n",
      "13299     226.01  ENCOUNTER_CODE_2            C4  99213      NaN   \n",
      "\n",
      "      PLACE_OF_SERVICE  AGE GENDER  CONST VERSION  \n",
      "13299              NaN  ≥18   M, F  CONST     NEW  \n",
      "=== Changed Codes and everything else ===\n",
      "      Measure_ID DATA_ELEMENT_NAME CODING_SYSTEM   CODE MODIFIER  \\\n",
      "13275     226.01  ENCOUNTER_CODE_2            C4  92004      NaN   \n",
      "\n",
      "      PLACE_OF_SERVICE  AGE GENDER  CONST VERSION  \n",
      "13275              NaN  ≥18   M, F  CONST     NEW  \n",
      "=== Changed Codes and everything else ===\n",
      "      Measure_ID DATA_ELEMENT_NAME CODING_SYSTEM   CODE MODIFIER  \\\n",
      "13280     226.01  ENCOUNTER_CODE_2            C4  92523      NaN   \n",
      "\n",
      "      PLACE_OF_SERVICE  AGE GENDER  CONST VERSION  \n",
      "13280              NaN  ≥18   M, F  CONST     NEW  \n",
      "=== Changed Codes and everything else ===\n",
      "      Measure_ID DATA_ELEMENT_NAME CODING_SYSTEM   CODE MODIFIER  \\\n",
      "13281     226.01  ENCOUNTER_CODE_2            C4  92524      NaN   \n",
      "\n",
      "      PLACE_OF_SERVICE  AGE GENDER  CONST VERSION  \n",
      "13281              NaN  ≥18   M, F  CONST     NEW  \n",
      "=== Changed Codes and everything else ===\n",
      "      Measure_ID DATA_ELEMENT_NAME CODING_SYSTEM   CODE MODIFIER  \\\n",
      "13320     226.01  ENCOUNTER_CODE_2            C4  99404      NaN   \n",
      "\n",
      "      PLACE_OF_SERVICE  AGE GENDER  CONST VERSION  \n",
      "13320              NaN  ≥18   M, F  CONST     NEW  \n",
      "=== Changed Codes and everything else ===\n",
      "      Measure_ID DATA_ELEMENT_NAME CODING_SYSTEM   CODE MODIFIER  \\\n",
      "13279     226.01  ENCOUNTER_CODE_2            C4  92522      NaN   \n",
      "\n",
      "      PLACE_OF_SERVICE  AGE GENDER  CONST VERSION  \n",
      "13279              NaN  ≥18   M, F  CONST     NEW  \n",
      "=== Changed Codes and everything else ===\n",
      "      Measure_ID DATA_ELEMENT_NAME CODING_SYSTEM   CODE MODIFIER  \\\n",
      "13277     226.01  ENCOUNTER_CODE_2            C4  92014      NaN   \n",
      "\n",
      "      PLACE_OF_SERVICE  AGE GENDER  CONST VERSION  \n",
      "13277              NaN  ≥18   M, F  CONST     NEW  \n",
      "=== Changed Codes and everything else ===\n",
      "      Measure_ID DATA_ELEMENT_NAME CODING_SYSTEM   CODE MODIFIER  \\\n",
      "13307     226.01  ENCOUNTER_CODE_2            C4  99347      NaN   \n",
      "\n",
      "      PLACE_OF_SERVICE  AGE GENDER  CONST VERSION  \n",
      "13307              NaN  ≥18   M, F  CONST     NEW  \n",
      "=== Changed Codes and everything else ===\n",
      "      Measure_ID DATA_ELEMENT_NAME CODING_SYSTEM   CODE MODIFIER  \\\n",
      "13309     226.01  ENCOUNTER_CODE_2            C4  99349      NaN   \n",
      "\n",
      "      PLACE_OF_SERVICE  AGE GENDER  CONST VERSION  \n",
      "13309              NaN  ≥18   M, F  CONST     NEW  \n",
      "=== Changed Codes and everything else ===\n",
      "      Measure_ID DATA_ELEMENT_NAME CODING_SYSTEM   CODE MODIFIER  \\\n",
      "13273     226.01  ENCOUNTER_CODE_2            C4  90845      NaN   \n",
      "\n",
      "      PLACE_OF_SERVICE  AGE GENDER  CONST VERSION  \n",
      "13273              NaN  ≥18   M, F  CONST     NEW  \n",
      "=== Changed Codes and everything else ===\n",
      "      Measure_ID DATA_ELEMENT_NAME CODING_SYSTEM   CODE MODIFIER  \\\n",
      "13289     226.01  ENCOUNTER_CODE_2            C4  97163      NaN   \n",
      "\n",
      "      PLACE_OF_SERVICE  AGE GENDER  CONST VERSION  \n",
      "13289              NaN  ≥18   M, F  CONST     NEW  \n",
      "=== Changed Codes and everything else ===\n",
      "      Measure_ID DATA_ELEMENT_NAME CODING_SYSTEM   CODE MODIFIER  \\\n",
      "13314     226.01  ENCOUNTER_CODE_2            C4  99395      NaN   \n",
      "\n",
      "      PLACE_OF_SERVICE  AGE GENDER  CONST VERSION  \n",
      "13314              NaN  ≥18   M, F  CONST     NEW  \n",
      "=== Changed Codes and everything else ===\n",
      "      Measure_ID DATA_ELEMENT_NAME CODING_SYSTEM   CODE MODIFIER  \\\n",
      "13287     226.01  ENCOUNTER_CODE_2            C4  97161      NaN   \n",
      "\n",
      "      PLACE_OF_SERVICE  AGE GENDER  CONST VERSION  \n",
      "13287              NaN  ≥18   M, F  CONST     NEW  \n",
      "=== Changed Codes and everything else ===\n",
      "      Measure_ID DATA_ELEMENT_NAME CODING_SYSTEM   CODE MODIFIER  \\\n",
      "13284     226.01  ENCOUNTER_CODE_2            C4  92625      NaN   \n",
      "\n",
      "      PLACE_OF_SERVICE  AGE GENDER  CONST VERSION  \n",
      "13284              NaN  ≥18   M, F  CONST     NEW  \n",
      "=== Changed Codes and everything else ===\n",
      "      Measure_ID DATA_ELEMENT_NAME CODING_SYSTEM   CODE MODIFIER  \\\n",
      "13288     226.01  ENCOUNTER_CODE_2            C4  97162      NaN   \n",
      "\n",
      "      PLACE_OF_SERVICE  AGE GENDER  CONST VERSION  \n",
      "13288              NaN  ≥18   M, F  CONST     NEW  \n",
      "=== Changed Codes and everything else ===\n",
      "      Measure_ID DATA_ELEMENT_NAME CODING_SYSTEM   CODE MODIFIER  \\\n",
      "13302     226.01  ENCOUNTER_CODE_2            C4  99341      NaN   \n",
      "\n",
      "      PLACE_OF_SERVICE  AGE GENDER  CONST VERSION  \n",
      "13302              NaN  ≥18   M, F  CONST     NEW  \n",
      "=== Changed Codes and everything else ===\n",
      "      Measure_ID DATA_ELEMENT_NAME CODING_SYSTEM   CODE MODIFIER  \\\n",
      "13268     226.01  ENCOUNTER_CODE_2            C4  90791      NaN   \n",
      "\n",
      "      PLACE_OF_SERVICE  AGE GENDER  CONST VERSION  \n",
      "13268              NaN  ≥18   M, F  CONST     NEW  \n",
      "=== Changed Codes and everything else ===\n",
      "      Measure_ID DATA_ELEMENT_NAME CODING_SYSTEM   CODE MODIFIER  \\\n",
      "13297     226.01  ENCOUNTER_CODE_2            C4  99205      NaN   \n",
      "\n",
      "      PLACE_OF_SERVICE  AGE GENDER  CONST VERSION  \n",
      "13297              NaN  ≥18   M, F  CONST     NEW  \n",
      "=== Changed Codes and everything else ===\n",
      "      Measure_ID DATA_ELEMENT_NAME CODING_SYSTEM   CODE MODIFIER  \\\n",
      "13311     226.01  ENCOUNTER_CODE_2            C4  99385      NaN   \n",
      "\n",
      "      PLACE_OF_SERVICE  AGE GENDER  CONST VERSION  \n",
      "13311              NaN  ≥18   M, F  CONST     NEW  \n",
      "=== Changed Codes and everything else ===\n",
      "      Measure_ID DATA_ELEMENT_NAME CODING_SYSTEM   CODE MODIFIER  \\\n",
      "13285     226.01  ENCOUNTER_CODE_2            C4  96156      NaN   \n",
      "\n",
      "      PLACE_OF_SERVICE  AGE GENDER  CONST VERSION  \n",
      "13285              NaN  ≥18   M, F  CONST     NEW  \n",
      "=== Changed Codes and everything else ===\n",
      "      Measure_ID DATA_ELEMENT_NAME CODING_SYSTEM   CODE MODIFIER  \\\n",
      "13312     226.01  ENCOUNTER_CODE_2            C4  99386      NaN   \n",
      "\n",
      "      PLACE_OF_SERVICE  AGE GENDER  CONST VERSION  \n",
      "13312              NaN  ≥18   M, F  CONST     NEW  \n",
      "=== Changed Codes and everything else ===\n",
      "      Measure_ID DATA_ELEMENT_NAME CODING_SYSTEM   CODE MODIFIER  \\\n",
      "13293     226.01  ENCOUNTER_CODE_2            C4  97168      NaN   \n",
      "\n",
      "      PLACE_OF_SERVICE  AGE GENDER  CONST VERSION  \n",
      "13293              NaN  ≥18   M, F  CONST     NEW  \n",
      "=== Changed Codes and everything else ===\n",
      "      Measure_ID DATA_ELEMENT_NAME CODING_SYSTEM   CODE MODIFIER  \\\n",
      "13319     226.01  ENCOUNTER_CODE_2            C4  99403      NaN   \n",
      "\n",
      "      PLACE_OF_SERVICE  AGE GENDER  CONST VERSION  \n",
      "13319              NaN  ≥18   M, F  CONST     NEW  \n",
      "=== Changed Codes and everything else ===\n",
      "      Measure_ID DATA_ELEMENT_NAME CODING_SYSTEM   CODE MODIFIER  \\\n",
      "13325     226.01  ENCOUNTER_CODE_2         HCPCS  G0439      NaN   \n",
      "\n",
      "      PLACE_OF_SERVICE  AGE GENDER  CONST VERSION  \n",
      "13325              NaN  ≥18   M, F  CONST     NEW  \n",
      "=== Changed Codes and everything else ===\n",
      "      Measure_ID DATA_ELEMENT_NAME CODING_SYSTEM   CODE MODIFIER  \\\n",
      "13292     226.01  ENCOUNTER_CODE_2            C4  97167      NaN   \n",
      "\n",
      "      PLACE_OF_SERVICE  AGE GENDER  CONST VERSION  \n",
      "13292              NaN  ≥18   M, F  CONST     NEW  \n",
      "=== Changed Codes and everything else ===\n",
      "      Measure_ID DATA_ELEMENT_NAME CODING_SYSTEM   CODE MODIFIER  \\\n",
      "13269     226.01  ENCOUNTER_CODE_2            C4  90792      NaN   \n",
      "\n",
      "      PLACE_OF_SERVICE  AGE GENDER  CONST VERSION  \n",
      "13269              NaN  ≥18   M, F  CONST     NEW  \n",
      "=== Changed Codes and everything else ===\n",
      "      Measure_ID DATA_ELEMENT_NAME CODING_SYSTEM   CODE MODIFIER  \\\n",
      "13303     226.01  ENCOUNTER_CODE_2            C4  99342      NaN   \n",
      "\n",
      "      PLACE_OF_SERVICE  AGE GENDER  CONST VERSION  \n",
      "13303              NaN  ≥18   M, F  CONST     NEW  \n",
      "=== Changed Codes and everything else ===\n",
      "      Measure_ID DATA_ELEMENT_NAME CODING_SYSTEM   CODE MODIFIER  \\\n",
      "13300     226.01  ENCOUNTER_CODE_2            C4  99214      NaN   \n",
      "\n",
      "      PLACE_OF_SERVICE  AGE GENDER  CONST VERSION  \n",
      "13300              NaN  ≥18   M, F  CONST     NEW  \n",
      "=== Changed Codes and everything else ===\n",
      "      Measure_ID DATA_ELEMENT_NAME CODING_SYSTEM   CODE MODIFIER  \\\n",
      "13283     226.01  ENCOUNTER_CODE_2            C4  92557      NaN   \n",
      "\n",
      "      PLACE_OF_SERVICE  AGE GENDER  CONST VERSION  \n",
      "13283              NaN  ≥18   M, F  CONST     NEW  \n",
      "=== Changed Codes and everything else ===\n",
      "      Measure_ID DATA_ELEMENT_NAME CODING_SYSTEM   CODE MODIFIER  \\\n",
      "13322     226.01  ENCOUNTER_CODE_2            C4  99412      NaN   \n",
      "\n",
      "      PLACE_OF_SERVICE  AGE GENDER  CONST VERSION  \n",
      "13322              NaN  ≥18   M, F  CONST     NEW  \n",
      "=== Changed Codes and everything else ===\n",
      "      Measure_ID DATA_ELEMENT_NAME CODING_SYSTEM   CODE MODIFIER  \\\n",
      "13298     226.01  ENCOUNTER_CODE_2            C4  99212      NaN   \n",
      "\n",
      "      PLACE_OF_SERVICE  AGE GENDER  CONST VERSION  \n",
      "13298              NaN  ≥18   M, F  CONST     NEW  \n",
      "=== Changed Codes and everything else ===\n",
      "      Measure_ID DATA_ELEMENT_NAME CODING_SYSTEM   CODE MODIFIER  \\\n",
      "13294     226.01  ENCOUNTER_CODE_2            C4  99202      NaN   \n",
      "\n",
      "      PLACE_OF_SERVICE  AGE GENDER  CONST VERSION  \n",
      "13294              NaN  ≥18   M, F  CONST     NEW  \n",
      "=== Changed Codes and everything else ===\n",
      "      Measure_ID DATA_ELEMENT_NAME CODING_SYSTEM   CODE MODIFIER  \\\n",
      "13304     226.01  ENCOUNTER_CODE_2            C4  99343      NaN   \n",
      "\n",
      "      PLACE_OF_SERVICE  AGE GENDER  CONST VERSION  \n",
      "13304              NaN  ≥18   M, F  CONST     NEW  \n",
      "=== Changed Codes and everything else ===\n",
      "      Measure_ID DATA_ELEMENT_NAME CODING_SYSTEM   CODE MODIFIER  \\\n",
      "13274     226.01  ENCOUNTER_CODE_2            C4  92002      NaN   \n",
      "\n",
      "      PLACE_OF_SERVICE  AGE GENDER  CONST VERSION  \n",
      "13274              NaN  ≥18   M, F  CONST     NEW  \n",
      "=== Changed Codes and everything else ===\n",
      "      Measure_ID DATA_ELEMENT_NAME CODING_SYSTEM   CODE MODIFIER  \\\n",
      "13271     226.01  ENCOUNTER_CODE_2            C4  90834      NaN   \n",
      "\n",
      "      PLACE_OF_SERVICE  AGE GENDER  CONST VERSION  \n",
      "13271              NaN  ≥18   M, F  CONST     NEW  \n",
      "=== Changed Codes and everything else ===\n",
      "      Measure_ID DATA_ELEMENT_NAME CODING_SYSTEM   CODE MODIFIER  \\\n",
      "13278     226.01  ENCOUNTER_CODE_2            C4  92521      NaN   \n",
      "\n",
      "      PLACE_OF_SERVICE  AGE GENDER  CONST VERSION  \n",
      "13278              NaN  ≥18   M, F  CONST     NEW  \n",
      "=== Changed Codes and everything else ===\n",
      "      Measure_ID DATA_ELEMENT_NAME CODING_SYSTEM   CODE MODIFIER  \\\n",
      "13272     226.01  ENCOUNTER_CODE_2            C4  90837      NaN   \n",
      "\n",
      "      PLACE_OF_SERVICE  AGE GENDER  CONST VERSION  \n",
      "13272              NaN  ≥18   M, F  CONST     NEW  \n",
      "=== Changed Codes and everything else ===\n",
      "      Measure_ID DATA_ELEMENT_NAME CODING_SYSTEM   CODE MODIFIER  \\\n",
      "13276     226.01  ENCOUNTER_CODE_2            C4  92012      NaN   \n",
      "\n",
      "      PLACE_OF_SERVICE  AGE GENDER  CONST VERSION  \n",
      "13276              NaN  ≥18   M, F  CONST     NEW  \n",
      "=== Changed Codes and everything else ===\n",
      "      Measure_ID DATA_ELEMENT_NAME CODING_SYSTEM   CODE MODIFIER  \\\n",
      "13291     226.01  ENCOUNTER_CODE_2            C4  97166      NaN   \n",
      "\n",
      "      PLACE_OF_SERVICE  AGE GENDER  CONST VERSION  \n",
      "13291              NaN  ≥18   M, F  CONST     NEW  \n",
      "=== Changed Codes and everything else ===\n",
      "      Measure_ID DATA_ELEMENT_NAME CODING_SYSTEM   CODE MODIFIER  \\\n",
      "13308     226.01  ENCOUNTER_CODE_2            C4  99348      NaN   \n",
      "\n",
      "      PLACE_OF_SERVICE  AGE GENDER  CONST VERSION  \n",
      "13308              NaN  ≥18   M, F  CONST     NEW  \n",
      "=== Changed Codes and everything else ===\n",
      "      Measure_ID DATA_ELEMENT_NAME CODING_SYSTEM   CODE MODIFIER  \\\n",
      "13286     226.01  ENCOUNTER_CODE_2            C4  96158      NaN   \n",
      "\n",
      "      PLACE_OF_SERVICE  AGE GENDER  CONST VERSION  \n",
      "13286              NaN  ≥18   M, F  CONST     NEW  \n",
      "=== Changed Codes and everything else ===\n",
      "      Measure_ID DATA_ELEMENT_NAME CODING_SYSTEM   CODE MODIFIER  \\\n",
      "13310     226.01  ENCOUNTER_CODE_2            C4  99350      NaN   \n",
      "\n",
      "      PLACE_OF_SERVICE  AGE GENDER  CONST VERSION  \n",
      "13310              NaN  ≥18   M, F  CONST     NEW  \n",
      "==For Data Element name G_CODE_3_PD_2 ==\n",
      "Added\n",
      "{'G9908', 'G9902'}\n",
      "Removed\n",
      "set()\n",
      "Changed\n",
      "set()\n",
      "=== Changed Codes and everything else ===\n",
      "      Measure_ID DATA_ELEMENT_NAME CODING_SYSTEM   CODE MODIFIER  \\\n",
      "13332     226.01     G_CODE_3_PD_2         HCPCS  G9908      NaN   \n",
      "\n",
      "      PLACE_OF_SERVICE  AGE GENDER  CONST VERSION  \n",
      "13332              NaN  ≥18   M, F  CONST     NEW  \n",
      "=== Changed Codes and everything else ===\n",
      "      Measure_ID DATA_ELEMENT_NAME CODING_SYSTEM   CODE MODIFIER  \\\n",
      "13333     226.01     G_CODE_3_PD_2         HCPCS  G9902      NaN   \n",
      "\n",
      "      PLACE_OF_SERVICE  AGE GENDER  CONST VERSION  \n",
      "13333              NaN  ≥18   M, F  CONST     NEW  \n"
     ]
    }
   ],
   "source": [
    "mid={}\n",
    "changed_den={}\n",
    "for i in changed_mid:\n",
    "    print(\"=for Measure ID \"+i+\"= \")\n",
    "    (mid[i],changed_den[i])=analyze_difference(df,\"Measure_ID\",i,\"DATA_ELEMENT_NAME\",True)\n",
    "    den = {}\n",
    "    changed_code = {}\n",
    "    for j in changed_den[i]:\n",
    "        print(\"==For Data Element name \"+j+\" ==\")\n",
    "        (den[j],changed_code[j])=analyze_difference(mid[i],\"DATA_ELEMENT_NAME\",j,\"CODE\",True)\n",
    "        for k in changed_code[j]:\n",
    "            print(\"=== Changed Codes and everything else ===\")\n",
    "            print(den[j][den[j][\"CODE\"]==k])\n",
    "    break"
   ]
  },
  {
   "cell_type": "code",
   "execution_count": 35,
   "id": "dab80c8e",
   "metadata": {
    "pycharm": {
     "name": "#%%\n"
    }
   },
   "outputs": [],
   "source": []
  }
 ],
 "metadata": {
  "kernelspec": {
   "display_name": "Python 3 (ipykernel)",
   "language": "python",
   "name": "python3"
  },
  "language_info": {
   "codemirror_mode": {
    "name": "ipython",
    "version": 3
   },
   "file_extension": ".py",
   "mimetype": "text/x-python",
   "name": "python",
   "nbconvert_exporter": "python",
   "pygments_lexer": "ipython3",
   "version": "3.8.13"
  }
 },
 "nbformat": 4,
 "nbformat_minor": 5
}